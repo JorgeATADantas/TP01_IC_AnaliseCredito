{
  "cells": [
    {
      "cell_type": "markdown",
      "metadata": {
        "id": "7QYddtZjGH_s"
      },
      "source": [
        "**Prática 3 – Validação Cruzada e Métricas De Avaliação**"
      ]
    },
    {
      "cell_type": "markdown",
      "metadata": {
        "id": "ghA_ViPQGH3r"
      },
      "source": [
        "**Aluno: Jorge Aliomar Trocoli Abdon Dantas**"
      ]
    },
    {
      "cell_type": "markdown",
      "metadata": {
        "id": "lFr8QeByGHqO"
      },
      "source": [
        "**Objetivo(s):**\n",
        "\n",
        "Nesta prática, você irá utilizar a função cross_validate da biblioteca scikit-learn para estimar o desempenho de diferentes algoritmos de classificação através de validação cruzada. A atividade propõe a comparação entre os resultados obtidos com validação cruzada e com uma simples divisão entre treino e teste."
      ]
    },
    {
      "cell_type": "markdown",
      "metadata": {
        "id": "uLDaIHXHQOyh"
      },
      "source": [
        "Você você estiver com dúvidas em relação ao funcionamento básico de Python, assista os vídeos:\n",
        "- https://didatica.tech/curso-de-python-online-para-iniciantes/\n",
        "- https://www.youtube.com/watch?v=oUrBHiT-lzo"
      ]
    },
    {
      "cell_type": "code",
      "execution_count": 18,
      "metadata": {
        "collapsed": true,
        "id": "lmoW3YP8LV5m"
      },
      "outputs": [],
      "source": [
        "#Montar drive para leitura das Bases de Dados\n",
        "#from google.colab import drive\n",
        "\n",
        "#drive.mount('/gdrive')\n",
        "#%cd /gdrive/MyDrive/2025-1_PraticasIC/Pratica02"
      ]
    },
    {
      "cell_type": "code",
      "execution_count": 19,
      "metadata": {
        "id": "G3ZCBI41MkU5"
      },
      "outputs": [],
      "source": [
        "#Importando Bibliotecas Pandas\n",
        "import pandas as pd"
      ]
    },
    {
      "cell_type": "code",
      "execution_count": 20,
      "metadata": {
        "id": "232RQBEu3mWD"
      },
      "outputs": [],
      "source": [
        "#Carregando Base de dados\n",
        "df_test = pd.read_csv(\"application_test.csv\")\n",
        "df_train = pd.read_csv(\"application_train.csv\")"
      ]
    },
    {
      "cell_type": "code",
      "execution_count": 21,
      "metadata": {},
      "outputs": [],
      "source": [
        "#Carregamento de Bases de Dados Auxiliares\n",
        "df_auxiliar_bureau                          = pd.read_csv(\"bureau.csv\")\n",
        "df_auxiliar_bureau_balance                  = pd.read_csv(\"bureau_balance.csv\")\n",
        "#df_auxiliar_credit_card_balance             = pd.read_csv(\"credit_card_balance.csv\")\n",
        "#df_auxiliar_installments_payments           = pd.read_csv(\"installments_payments.csv\")\n",
        "#df_auxiliar_POS_CASH_balance                = pd.read_csv(\"POS_CASH_balance.csv\")\n",
        "#df_auxiliar_previous_application            = pd.read_csv(\"previous_application.csv\")\n"
      ]
    },
    {
      "cell_type": "code",
      "execution_count": 36,
      "metadata": {},
      "outputs": [
        {
          "name": "stdout",
          "output_type": "stream",
          "text": [
            "<class 'pandas.core.frame.DataFrame'>\n",
            "RangeIndex: 307511 entries, 0 to 307510\n",
            "Data columns (total 122 columns):\n",
            " #    Column                        Non-Null Count   Dtype  \n",
            "---   ------                        --------------   -----  \n",
            " 0    SK_ID_CURR                    307511 non-null  int64  \n",
            " 1    TARGET                        307511 non-null  int64  \n",
            " 2    NAME_CONTRACT_TYPE            307511 non-null  object \n",
            " 3    CODE_GENDER                   307511 non-null  object \n",
            " 4    FLAG_OWN_CAR                  307511 non-null  object \n",
            " 5    FLAG_OWN_REALTY               307511 non-null  object \n",
            " 6    CNT_CHILDREN                  307511 non-null  int64  \n",
            " 7    AMT_INCOME_TOTAL              307511 non-null  float64\n",
            " 8    AMT_CREDIT                    307511 non-null  float64\n",
            " 9    AMT_ANNUITY                   307499 non-null  float64\n",
            " 10   AMT_GOODS_PRICE               307233 non-null  float64\n",
            " 11   NAME_TYPE_SUITE               306219 non-null  object \n",
            " 12   NAME_INCOME_TYPE              307511 non-null  object \n",
            " 13   NAME_EDUCATION_TYPE           307511 non-null  object \n",
            " 14   NAME_FAMILY_STATUS            307511 non-null  object \n",
            " 15   NAME_HOUSING_TYPE             307511 non-null  object \n",
            " 16   REGION_POPULATION_RELATIVE    307511 non-null  float64\n",
            " 17   DAYS_BIRTH                    307511 non-null  int64  \n",
            " 18   DAYS_EMPLOYED                 307511 non-null  int64  \n",
            " 19   DAYS_REGISTRATION             307511 non-null  float64\n",
            " 20   DAYS_ID_PUBLISH               307511 non-null  int64  \n",
            " 21   OWN_CAR_AGE                   104582 non-null  float64\n",
            " 22   FLAG_MOBIL                    307511 non-null  int64  \n",
            " 23   FLAG_EMP_PHONE                307511 non-null  int64  \n",
            " 24   FLAG_WORK_PHONE               307511 non-null  int64  \n",
            " 25   FLAG_CONT_MOBILE              307511 non-null  int64  \n",
            " 26   FLAG_PHONE                    307511 non-null  int64  \n",
            " 27   FLAG_EMAIL                    307511 non-null  int64  \n",
            " 28   OCCUPATION_TYPE               211120 non-null  object \n",
            " 29   CNT_FAM_MEMBERS               307509 non-null  float64\n",
            " 30   REGION_RATING_CLIENT          307511 non-null  int64  \n",
            " 31   REGION_RATING_CLIENT_W_CITY   307511 non-null  int64  \n",
            " 32   WEEKDAY_APPR_PROCESS_START    307511 non-null  object \n",
            " 33   HOUR_APPR_PROCESS_START       307511 non-null  int64  \n",
            " 34   REG_REGION_NOT_LIVE_REGION    307511 non-null  int64  \n",
            " 35   REG_REGION_NOT_WORK_REGION    307511 non-null  int64  \n",
            " 36   LIVE_REGION_NOT_WORK_REGION   307511 non-null  int64  \n",
            " 37   REG_CITY_NOT_LIVE_CITY        307511 non-null  int64  \n",
            " 38   REG_CITY_NOT_WORK_CITY        307511 non-null  int64  \n",
            " 39   LIVE_CITY_NOT_WORK_CITY       307511 non-null  int64  \n",
            " 40   ORGANIZATION_TYPE             307511 non-null  object \n",
            " 41   EXT_SOURCE_1                  134133 non-null  float64\n",
            " 42   EXT_SOURCE_2                  306851 non-null  float64\n",
            " 43   EXT_SOURCE_3                  246546 non-null  float64\n",
            " 44   APARTMENTS_AVG                151450 non-null  float64\n",
            " 45   BASEMENTAREA_AVG              127568 non-null  float64\n",
            " 46   YEARS_BEGINEXPLUATATION_AVG   157504 non-null  float64\n",
            " 47   YEARS_BUILD_AVG               103023 non-null  float64\n",
            " 48   COMMONAREA_AVG                92646 non-null   float64\n",
            " 49   ELEVATORS_AVG                 143620 non-null  float64\n",
            " 50   ENTRANCES_AVG                 152683 non-null  float64\n",
            " 51   FLOORSMAX_AVG                 154491 non-null  float64\n",
            " 52   FLOORSMIN_AVG                 98869 non-null   float64\n",
            " 53   LANDAREA_AVG                  124921 non-null  float64\n",
            " 54   LIVINGAPARTMENTS_AVG          97312 non-null   float64\n",
            " 55   LIVINGAREA_AVG                153161 non-null  float64\n",
            " 56   NONLIVINGAPARTMENTS_AVG       93997 non-null   float64\n",
            " 57   NONLIVINGAREA_AVG             137829 non-null  float64\n",
            " 58   APARTMENTS_MODE               151450 non-null  float64\n",
            " 59   BASEMENTAREA_MODE             127568 non-null  float64\n",
            " 60   YEARS_BEGINEXPLUATATION_MODE  157504 non-null  float64\n",
            " 61   YEARS_BUILD_MODE              103023 non-null  float64\n",
            " 62   COMMONAREA_MODE               92646 non-null   float64\n",
            " 63   ELEVATORS_MODE                143620 non-null  float64\n",
            " 64   ENTRANCES_MODE                152683 non-null  float64\n",
            " 65   FLOORSMAX_MODE                154491 non-null  float64\n",
            " 66   FLOORSMIN_MODE                98869 non-null   float64\n",
            " 67   LANDAREA_MODE                 124921 non-null  float64\n",
            " 68   LIVINGAPARTMENTS_MODE         97312 non-null   float64\n",
            " 69   LIVINGAREA_MODE               153161 non-null  float64\n",
            " 70   NONLIVINGAPARTMENTS_MODE      93997 non-null   float64\n",
            " 71   NONLIVINGAREA_MODE            137829 non-null  float64\n",
            " 72   APARTMENTS_MEDI               151450 non-null  float64\n",
            " 73   BASEMENTAREA_MEDI             127568 non-null  float64\n",
            " 74   YEARS_BEGINEXPLUATATION_MEDI  157504 non-null  float64\n",
            " 75   YEARS_BUILD_MEDI              103023 non-null  float64\n",
            " 76   COMMONAREA_MEDI               92646 non-null   float64\n",
            " 77   ELEVATORS_MEDI                143620 non-null  float64\n",
            " 78   ENTRANCES_MEDI                152683 non-null  float64\n",
            " 79   FLOORSMAX_MEDI                154491 non-null  float64\n",
            " 80   FLOORSMIN_MEDI                98869 non-null   float64\n",
            " 81   LANDAREA_MEDI                 124921 non-null  float64\n",
            " 82   LIVINGAPARTMENTS_MEDI         97312 non-null   float64\n",
            " 83   LIVINGAREA_MEDI               153161 non-null  float64\n",
            " 84   NONLIVINGAPARTMENTS_MEDI      93997 non-null   float64\n",
            " 85   NONLIVINGAREA_MEDI            137829 non-null  float64\n",
            " 86   FONDKAPREMONT_MODE            97216 non-null   object \n",
            " 87   HOUSETYPE_MODE                153214 non-null  object \n",
            " 88   TOTALAREA_MODE                159080 non-null  float64\n",
            " 89   WALLSMATERIAL_MODE            151170 non-null  object \n",
            " 90   EMERGENCYSTATE_MODE           161756 non-null  object \n",
            " 91   OBS_30_CNT_SOCIAL_CIRCLE      306490 non-null  float64\n",
            " 92   DEF_30_CNT_SOCIAL_CIRCLE      306490 non-null  float64\n",
            " 93   OBS_60_CNT_SOCIAL_CIRCLE      306490 non-null  float64\n",
            " 94   DEF_60_CNT_SOCIAL_CIRCLE      306490 non-null  float64\n",
            " 95   DAYS_LAST_PHONE_CHANGE        307510 non-null  float64\n",
            " 96   FLAG_DOCUMENT_2               307511 non-null  int64  \n",
            " 97   FLAG_DOCUMENT_3               307511 non-null  int64  \n",
            " 98   FLAG_DOCUMENT_4               307511 non-null  int64  \n",
            " 99   FLAG_DOCUMENT_5               307511 non-null  int64  \n",
            " 100  FLAG_DOCUMENT_6               307511 non-null  int64  \n",
            " 101  FLAG_DOCUMENT_7               307511 non-null  int64  \n",
            " 102  FLAG_DOCUMENT_8               307511 non-null  int64  \n",
            " 103  FLAG_DOCUMENT_9               307511 non-null  int64  \n",
            " 104  FLAG_DOCUMENT_10              307511 non-null  int64  \n",
            " 105  FLAG_DOCUMENT_11              307511 non-null  int64  \n",
            " 106  FLAG_DOCUMENT_12              307511 non-null  int64  \n",
            " 107  FLAG_DOCUMENT_13              307511 non-null  int64  \n",
            " 108  FLAG_DOCUMENT_14              307511 non-null  int64  \n",
            " 109  FLAG_DOCUMENT_15              307511 non-null  int64  \n",
            " 110  FLAG_DOCUMENT_16              307511 non-null  int64  \n",
            " 111  FLAG_DOCUMENT_17              307511 non-null  int64  \n",
            " 112  FLAG_DOCUMENT_18              307511 non-null  int64  \n",
            " 113  FLAG_DOCUMENT_19              307511 non-null  int64  \n",
            " 114  FLAG_DOCUMENT_20              307511 non-null  int64  \n",
            " 115  FLAG_DOCUMENT_21              307511 non-null  int64  \n",
            " 116  AMT_REQ_CREDIT_BUREAU_HOUR    265992 non-null  float64\n",
            " 117  AMT_REQ_CREDIT_BUREAU_DAY     265992 non-null  float64\n",
            " 118  AMT_REQ_CREDIT_BUREAU_WEEK    265992 non-null  float64\n",
            " 119  AMT_REQ_CREDIT_BUREAU_MON     265992 non-null  float64\n",
            " 120  AMT_REQ_CREDIT_BUREAU_QRT     265992 non-null  float64\n",
            " 121  AMT_REQ_CREDIT_BUREAU_YEAR    265992 non-null  float64\n",
            "dtypes: float64(65), int64(41), object(16)\n",
            "memory usage: 286.2+ MB\n"
          ]
        }
      ],
      "source": [
        "df_train.info(max_cols=400)"
      ]
    },
    {
      "cell_type": "code",
      "execution_count": 23,
      "metadata": {},
      "outputs": [
        {
          "name": "stdout",
          "output_type": "stream",
          "text": [
            "<class 'pandas.core.frame.DataFrame'>\n",
            "RangeIndex: 1716428 entries, 0 to 1716427\n",
            "Data columns (total 17 columns):\n",
            " #   Column                  Dtype  \n",
            "---  ------                  -----  \n",
            " 0   SK_ID_CURR              int64  \n",
            " 1   SK_ID_BUREAU            int64  \n",
            " 2   CREDIT_ACTIVE           object \n",
            " 3   CREDIT_CURRENCY         object \n",
            " 4   DAYS_CREDIT             int64  \n",
            " 5   CREDIT_DAY_OVERDUE      int64  \n",
            " 6   DAYS_CREDIT_ENDDATE     float64\n",
            " 7   DAYS_ENDDATE_FACT       float64\n",
            " 8   AMT_CREDIT_MAX_OVERDUE  float64\n",
            " 9   CNT_CREDIT_PROLONG      int64  \n",
            " 10  AMT_CREDIT_SUM          float64\n",
            " 11  AMT_CREDIT_SUM_DEBT     float64\n",
            " 12  AMT_CREDIT_SUM_LIMIT    float64\n",
            " 13  AMT_CREDIT_SUM_OVERDUE  float64\n",
            " 14  CREDIT_TYPE             object \n",
            " 15  DAYS_CREDIT_UPDATE      int64  \n",
            " 16  AMT_ANNUITY             float64\n",
            "dtypes: float64(8), int64(6), object(3)\n",
            "memory usage: 222.6+ MB\n"
          ]
        }
      ],
      "source": [
        "df_auxiliar_bureau.info()"
      ]
    },
    {
      "cell_type": "code",
      "execution_count": 35,
      "metadata": {},
      "outputs": [
        {
          "data": {
            "text/html": [
              "<div>\n",
              "<style scoped>\n",
              "    .dataframe tbody tr th:only-of-type {\n",
              "        vertical-align: middle;\n",
              "    }\n",
              "\n",
              "    .dataframe tbody tr th {\n",
              "        vertical-align: top;\n",
              "    }\n",
              "\n",
              "    .dataframe thead th {\n",
              "        text-align: right;\n",
              "    }\n",
              "</style>\n",
              "<table border=\"1\" class=\"dataframe\">\n",
              "  <thead>\n",
              "    <tr style=\"text-align: right;\">\n",
              "      <th></th>\n",
              "      <th>SK_ID_CURR</th>\n",
              "      <th>TARGET</th>\n",
              "      <th>NAME_CONTRACT_TYPE</th>\n",
              "      <th>CODE_GENDER</th>\n",
              "      <th>FLAG_OWN_CAR</th>\n",
              "      <th>FLAG_OWN_REALTY</th>\n",
              "      <th>CNT_CHILDREN</th>\n",
              "      <th>AMT_INCOME_TOTAL</th>\n",
              "      <th>AMT_CREDIT</th>\n",
              "      <th>AMT_ANNUITY</th>\n",
              "      <th>...</th>\n",
              "      <th>DAYS_ENDDATE_FACT</th>\n",
              "      <th>AMT_CREDIT_MAX_OVERDUE</th>\n",
              "      <th>CNT_CREDIT_PROLONG</th>\n",
              "      <th>AMT_CREDIT_SUM</th>\n",
              "      <th>AMT_CREDIT_SUM_DEBT</th>\n",
              "      <th>AMT_CREDIT_SUM_LIMIT</th>\n",
              "      <th>AMT_CREDIT_SUM_OVERDUE</th>\n",
              "      <th>CREDIT_TYPE</th>\n",
              "      <th>DAYS_CREDIT_UPDATE</th>\n",
              "      <th>AMT_ANNUITY</th>\n",
              "    </tr>\n",
              "  </thead>\n",
              "  <tbody>\n",
              "    <tr>\n",
              "      <th>0</th>\n",
              "      <td>100002</td>\n",
              "      <td>1</td>\n",
              "      <td>Cash loans</td>\n",
              "      <td>M</td>\n",
              "      <td>N</td>\n",
              "      <td>Y</td>\n",
              "      <td>0</td>\n",
              "      <td>202500.0</td>\n",
              "      <td>406597.5</td>\n",
              "      <td>24700.5</td>\n",
              "      <td>...</td>\n",
              "      <td>-2320.0</td>\n",
              "      <td>NaN</td>\n",
              "      <td>0</td>\n",
              "      <td>58590.99</td>\n",
              "      <td>0.0</td>\n",
              "      <td>NaN</td>\n",
              "      <td>0.0</td>\n",
              "      <td>Consumer credit</td>\n",
              "      <td>-762</td>\n",
              "      <td>12681.0</td>\n",
              "    </tr>\n",
              "    <tr>\n",
              "      <th>1</th>\n",
              "      <td>100003</td>\n",
              "      <td>0</td>\n",
              "      <td>Cash loans</td>\n",
              "      <td>F</td>\n",
              "      <td>N</td>\n",
              "      <td>N</td>\n",
              "      <td>0</td>\n",
              "      <td>270000.0</td>\n",
              "      <td>1293502.5</td>\n",
              "      <td>35698.5</td>\n",
              "      <td>...</td>\n",
              "      <td>-1090.0</td>\n",
              "      <td>NaN</td>\n",
              "      <td>0</td>\n",
              "      <td>91881.00</td>\n",
              "      <td>0.0</td>\n",
              "      <td>0.0</td>\n",
              "      <td>0.0</td>\n",
              "      <td>Consumer credit</td>\n",
              "      <td>-1085</td>\n",
              "      <td>0.0</td>\n",
              "    </tr>\n",
              "    <tr>\n",
              "      <th>2</th>\n",
              "      <td>100004</td>\n",
              "      <td>0</td>\n",
              "      <td>Revolving loans</td>\n",
              "      <td>M</td>\n",
              "      <td>Y</td>\n",
              "      <td>Y</td>\n",
              "      <td>0</td>\n",
              "      <td>67500.0</td>\n",
              "      <td>135000.0</td>\n",
              "      <td>6750.0</td>\n",
              "      <td>...</td>\n",
              "      <td>-1275.0</td>\n",
              "      <td>NaN</td>\n",
              "      <td>0</td>\n",
              "      <td>183829.50</td>\n",
              "      <td>0.0</td>\n",
              "      <td>0.0</td>\n",
              "      <td>0.0</td>\n",
              "      <td>Consumer credit</td>\n",
              "      <td>-1266</td>\n",
              "      <td>12681.0</td>\n",
              "    </tr>\n",
              "    <tr>\n",
              "      <th>3</th>\n",
              "      <td>100006</td>\n",
              "      <td>0</td>\n",
              "      <td>Cash loans</td>\n",
              "      <td>F</td>\n",
              "      <td>N</td>\n",
              "      <td>Y</td>\n",
              "      <td>0</td>\n",
              "      <td>135000.0</td>\n",
              "      <td>312682.5</td>\n",
              "      <td>29686.5</td>\n",
              "      <td>...</td>\n",
              "      <td>-1543.0</td>\n",
              "      <td>NaN</td>\n",
              "      <td>0</td>\n",
              "      <td>45153.00</td>\n",
              "      <td>0.0</td>\n",
              "      <td>NaN</td>\n",
              "      <td>0.0</td>\n",
              "      <td>Consumer credit</td>\n",
              "      <td>-1543</td>\n",
              "      <td>12681.0</td>\n",
              "    </tr>\n",
              "    <tr>\n",
              "      <th>4</th>\n",
              "      <td>100007</td>\n",
              "      <td>0</td>\n",
              "      <td>Cash loans</td>\n",
              "      <td>M</td>\n",
              "      <td>N</td>\n",
              "      <td>Y</td>\n",
              "      <td>0</td>\n",
              "      <td>121500.0</td>\n",
              "      <td>513000.0</td>\n",
              "      <td>21865.5</td>\n",
              "      <td>...</td>\n",
              "      <td>-2103.0</td>\n",
              "      <td>NaN</td>\n",
              "      <td>0</td>\n",
              "      <td>699943.50</td>\n",
              "      <td>0.0</td>\n",
              "      <td>NaN</td>\n",
              "      <td>0.0</td>\n",
              "      <td>Car loan</td>\n",
              "      <td>-2101</td>\n",
              "      <td>NaN</td>\n",
              "    </tr>\n",
              "    <tr>\n",
              "      <th>...</th>\n",
              "      <td>...</td>\n",
              "      <td>...</td>\n",
              "      <td>...</td>\n",
              "      <td>...</td>\n",
              "      <td>...</td>\n",
              "      <td>...</td>\n",
              "      <td>...</td>\n",
              "      <td>...</td>\n",
              "      <td>...</td>\n",
              "      <td>...</td>\n",
              "      <td>...</td>\n",
              "      <td>...</td>\n",
              "      <td>...</td>\n",
              "      <td>...</td>\n",
              "      <td>...</td>\n",
              "      <td>...</td>\n",
              "      <td>...</td>\n",
              "      <td>...</td>\n",
              "      <td>...</td>\n",
              "      <td>...</td>\n",
              "      <td>...</td>\n",
              "    </tr>\n",
              "    <tr>\n",
              "      <th>307506</th>\n",
              "      <td>456251</td>\n",
              "      <td>0</td>\n",
              "      <td>Cash loans</td>\n",
              "      <td>M</td>\n",
              "      <td>N</td>\n",
              "      <td>N</td>\n",
              "      <td>0</td>\n",
              "      <td>157500.0</td>\n",
              "      <td>254700.0</td>\n",
              "      <td>27558.0</td>\n",
              "      <td>...</td>\n",
              "      <td>-1072.0</td>\n",
              "      <td>NaN</td>\n",
              "      <td>0</td>\n",
              "      <td>49500.00</td>\n",
              "      <td>NaN</td>\n",
              "      <td>NaN</td>\n",
              "      <td>0.0</td>\n",
              "      <td>Consumer credit</td>\n",
              "      <td>-1068</td>\n",
              "      <td>NaN</td>\n",
              "    </tr>\n",
              "    <tr>\n",
              "      <th>307507</th>\n",
              "      <td>456252</td>\n",
              "      <td>0</td>\n",
              "      <td>Cash loans</td>\n",
              "      <td>F</td>\n",
              "      <td>N</td>\n",
              "      <td>Y</td>\n",
              "      <td>0</td>\n",
              "      <td>72000.0</td>\n",
              "      <td>269550.0</td>\n",
              "      <td>12001.5</td>\n",
              "      <td>...</td>\n",
              "      <td>NaN</td>\n",
              "      <td>NaN</td>\n",
              "      <td>0</td>\n",
              "      <td>450000.00</td>\n",
              "      <td>367452.0</td>\n",
              "      <td>NaN</td>\n",
              "      <td>0.0</td>\n",
              "      <td>Consumer credit</td>\n",
              "      <td>-28</td>\n",
              "      <td>NaN</td>\n",
              "    </tr>\n",
              "    <tr>\n",
              "      <th>307508</th>\n",
              "      <td>456253</td>\n",
              "      <td>0</td>\n",
              "      <td>Cash loans</td>\n",
              "      <td>F</td>\n",
              "      <td>N</td>\n",
              "      <td>Y</td>\n",
              "      <td>0</td>\n",
              "      <td>153000.0</td>\n",
              "      <td>677664.0</td>\n",
              "      <td>29979.0</td>\n",
              "      <td>...</td>\n",
              "      <td>-1072.0</td>\n",
              "      <td>0.0</td>\n",
              "      <td>0</td>\n",
              "      <td>49500.00</td>\n",
              "      <td>0.0</td>\n",
              "      <td>0.0</td>\n",
              "      <td>0.0</td>\n",
              "      <td>Consumer credit</td>\n",
              "      <td>-382</td>\n",
              "      <td>NaN</td>\n",
              "    </tr>\n",
              "    <tr>\n",
              "      <th>307509</th>\n",
              "      <td>456254</td>\n",
              "      <td>1</td>\n",
              "      <td>Cash loans</td>\n",
              "      <td>F</td>\n",
              "      <td>N</td>\n",
              "      <td>Y</td>\n",
              "      <td>0</td>\n",
              "      <td>171000.0</td>\n",
              "      <td>370107.0</td>\n",
              "      <td>20205.0</td>\n",
              "      <td>...</td>\n",
              "      <td>NaN</td>\n",
              "      <td>0.0</td>\n",
              "      <td>0</td>\n",
              "      <td>1350000.00</td>\n",
              "      <td>1277122.5</td>\n",
              "      <td>0.0</td>\n",
              "      <td>0.0</td>\n",
              "      <td>Consumer credit</td>\n",
              "      <td>-25</td>\n",
              "      <td>NaN</td>\n",
              "    </tr>\n",
              "    <tr>\n",
              "      <th>307510</th>\n",
              "      <td>456255</td>\n",
              "      <td>0</td>\n",
              "      <td>Cash loans</td>\n",
              "      <td>F</td>\n",
              "      <td>N</td>\n",
              "      <td>N</td>\n",
              "      <td>0</td>\n",
              "      <td>157500.0</td>\n",
              "      <td>675000.0</td>\n",
              "      <td>49117.5</td>\n",
              "      <td>...</td>\n",
              "      <td>-2615.0</td>\n",
              "      <td>NaN</td>\n",
              "      <td>0</td>\n",
              "      <td>24084.00</td>\n",
              "      <td>0.0</td>\n",
              "      <td>0.0</td>\n",
              "      <td>0.0</td>\n",
              "      <td>Consumer credit</td>\n",
              "      <td>-851</td>\n",
              "      <td>NaN</td>\n",
              "    </tr>\n",
              "  </tbody>\n",
              "</table>\n",
              "<p>307511 rows × 139 columns</p>\n",
              "</div>"
            ],
            "text/plain": [
              "        SK_ID_CURR   TARGET NAME_CONTRACT_TYPE CODE_GENDER FLAG_OWN_CAR  \\\n",
              "0            100002       1         Cash loans           M            N   \n",
              "1            100003       0         Cash loans           F            N   \n",
              "2            100004       0    Revolving loans           M            Y   \n",
              "3            100006       0         Cash loans           F            N   \n",
              "4            100007       0         Cash loans           M            N   \n",
              "...             ...     ...                ...         ...          ...   \n",
              "307506       456251       0         Cash loans           M            N   \n",
              "307507       456252       0         Cash loans           F            N   \n",
              "307508       456253       0         Cash loans           F            N   \n",
              "307509       456254       1         Cash loans           F            N   \n",
              "307510       456255       0         Cash loans           F            N   \n",
              "\n",
              "       FLAG_OWN_REALTY  CNT_CHILDREN  AMT_INCOME_TOTAL  AMT_CREDIT  \\\n",
              "0                    Y             0          202500.0    406597.5   \n",
              "1                    N             0          270000.0   1293502.5   \n",
              "2                    Y             0           67500.0    135000.0   \n",
              "3                    Y             0          135000.0    312682.5   \n",
              "4                    Y             0          121500.0    513000.0   \n",
              "...                ...           ...               ...         ...   \n",
              "307506               N             0          157500.0    254700.0   \n",
              "307507               Y             0           72000.0    269550.0   \n",
              "307508               Y             0          153000.0    677664.0   \n",
              "307509               Y             0          171000.0    370107.0   \n",
              "307510               N             0          157500.0    675000.0   \n",
              "\n",
              "        AMT_ANNUITY   ...  DAYS_ENDDATE_FACT AMT_CREDIT_MAX_OVERDUE  \\\n",
              "0            24700.5  ...            -2320.0                    NaN   \n",
              "1            35698.5  ...            -1090.0                    NaN   \n",
              "2             6750.0  ...            -1275.0                    NaN   \n",
              "3            29686.5  ...            -1543.0                    NaN   \n",
              "4            21865.5  ...            -2103.0                    NaN   \n",
              "...              ...  ...                ...                    ...   \n",
              "307506       27558.0  ...            -1072.0                    NaN   \n",
              "307507       12001.5  ...                NaN                    NaN   \n",
              "307508       29979.0  ...            -1072.0                    0.0   \n",
              "307509       20205.0  ...                NaN                    0.0   \n",
              "307510       49117.5  ...            -2615.0                    NaN   \n",
              "\n",
              "       CNT_CREDIT_PROLONG AMT_CREDIT_SUM AMT_CREDIT_SUM_DEBT  \\\n",
              "0                       0       58590.99                 0.0   \n",
              "1                       0       91881.00                 0.0   \n",
              "2                       0      183829.50                 0.0   \n",
              "3                       0       45153.00                 0.0   \n",
              "4                       0      699943.50                 0.0   \n",
              "...                   ...            ...                 ...   \n",
              "307506                  0       49500.00                 NaN   \n",
              "307507                  0      450000.00            367452.0   \n",
              "307508                  0       49500.00                 0.0   \n",
              "307509                  0     1350000.00           1277122.5   \n",
              "307510                  0       24084.00                 0.0   \n",
              "\n",
              "       AMT_CREDIT_SUM_LIMIT  AMT_CREDIT_SUM_OVERDUE      CREDIT_TYPE  \\\n",
              "0                       NaN                     0.0  Consumer credit   \n",
              "1                       0.0                     0.0  Consumer credit   \n",
              "2                       0.0                     0.0  Consumer credit   \n",
              "3                       NaN                     0.0  Consumer credit   \n",
              "4                       NaN                     0.0         Car loan   \n",
              "...                     ...                     ...              ...   \n",
              "307506                  NaN                     0.0  Consumer credit   \n",
              "307507                  NaN                     0.0  Consumer credit   \n",
              "307508                  0.0                     0.0  Consumer credit   \n",
              "307509                  0.0                     0.0  Consumer credit   \n",
              "307510                  0.0                     0.0  Consumer credit   \n",
              "\n",
              "        DAYS_CREDIT_UPDATE  AMT_ANNUITY  \n",
              "0                     -762      12681.0  \n",
              "1                    -1085          0.0  \n",
              "2                    -1266      12681.0  \n",
              "3                    -1543      12681.0  \n",
              "4                    -2101          NaN  \n",
              "...                    ...          ...  \n",
              "307506               -1068          NaN  \n",
              "307507                 -28          NaN  \n",
              "307508                -382          NaN  \n",
              "307509                 -25          NaN  \n",
              "307510                -851          NaN  \n",
              "\n",
              "[307511 rows x 139 columns]"
            ]
          },
          "execution_count": 35,
          "metadata": {},
          "output_type": "execute_result"
        }
      ],
      "source": [
        "#Realização do left join de df_train com df_auxiliar_bureau\n",
        "# DF da esquerda = df_train\n",
        "# DF da direita  = df_auxiliar_bureau\n",
        "df_train.join(df_auxiliar_bureau, on='SK_ID_CURR', lsuffix=' ', how='left')"
      ]
    },
    {
      "cell_type": "code",
      "execution_count": 34,
      "metadata": {},
      "outputs": [
        {
          "data": {
            "text/html": [
              "<div>\n",
              "<style scoped>\n",
              "    .dataframe tbody tr th:only-of-type {\n",
              "        vertical-align: middle;\n",
              "    }\n",
              "\n",
              "    .dataframe tbody tr th {\n",
              "        vertical-align: top;\n",
              "    }\n",
              "\n",
              "    .dataframe thead th {\n",
              "        text-align: right;\n",
              "    }\n",
              "</style>\n",
              "<table border=\"1\" class=\"dataframe\">\n",
              "  <thead>\n",
              "    <tr style=\"text-align: right;\">\n",
              "      <th></th>\n",
              "      <th>SK_ID_CURR</th>\n",
              "      <th>TARGET</th>\n",
              "      <th>NAME_CONTRACT_TYPE</th>\n",
              "      <th>CODE_GENDER</th>\n",
              "      <th>FLAG_OWN_CAR</th>\n",
              "      <th>FLAG_OWN_REALTY</th>\n",
              "      <th>CNT_CHILDREN</th>\n",
              "      <th>AMT_INCOME_TOTAL</th>\n",
              "      <th>AMT_CREDIT</th>\n",
              "      <th>AMT_ANNUITY</th>\n",
              "      <th>...</th>\n",
              "      <th>FLAG_DOCUMENT_18</th>\n",
              "      <th>FLAG_DOCUMENT_19</th>\n",
              "      <th>FLAG_DOCUMENT_20</th>\n",
              "      <th>FLAG_DOCUMENT_21</th>\n",
              "      <th>AMT_REQ_CREDIT_BUREAU_HOUR</th>\n",
              "      <th>AMT_REQ_CREDIT_BUREAU_DAY</th>\n",
              "      <th>AMT_REQ_CREDIT_BUREAU_WEEK</th>\n",
              "      <th>AMT_REQ_CREDIT_BUREAU_MON</th>\n",
              "      <th>AMT_REQ_CREDIT_BUREAU_QRT</th>\n",
              "      <th>AMT_REQ_CREDIT_BUREAU_YEAR</th>\n",
              "    </tr>\n",
              "  </thead>\n",
              "  <tbody>\n",
              "    <tr>\n",
              "      <th>0</th>\n",
              "      <td>100002</td>\n",
              "      <td>1</td>\n",
              "      <td>Cash loans</td>\n",
              "      <td>M</td>\n",
              "      <td>N</td>\n",
              "      <td>Y</td>\n",
              "      <td>0</td>\n",
              "      <td>202500.0</td>\n",
              "      <td>406597.5</td>\n",
              "      <td>24700.5</td>\n",
              "      <td>...</td>\n",
              "      <td>0</td>\n",
              "      <td>0</td>\n",
              "      <td>0</td>\n",
              "      <td>0</td>\n",
              "      <td>0.0</td>\n",
              "      <td>0.0</td>\n",
              "      <td>0.0</td>\n",
              "      <td>0.0</td>\n",
              "      <td>0.0</td>\n",
              "      <td>1.0</td>\n",
              "    </tr>\n",
              "    <tr>\n",
              "      <th>1</th>\n",
              "      <td>100003</td>\n",
              "      <td>0</td>\n",
              "      <td>Cash loans</td>\n",
              "      <td>F</td>\n",
              "      <td>N</td>\n",
              "      <td>N</td>\n",
              "      <td>0</td>\n",
              "      <td>270000.0</td>\n",
              "      <td>1293502.5</td>\n",
              "      <td>35698.5</td>\n",
              "      <td>...</td>\n",
              "      <td>0</td>\n",
              "      <td>0</td>\n",
              "      <td>0</td>\n",
              "      <td>0</td>\n",
              "      <td>0.0</td>\n",
              "      <td>0.0</td>\n",
              "      <td>0.0</td>\n",
              "      <td>0.0</td>\n",
              "      <td>0.0</td>\n",
              "      <td>0.0</td>\n",
              "    </tr>\n",
              "    <tr>\n",
              "      <th>2</th>\n",
              "      <td>100004</td>\n",
              "      <td>0</td>\n",
              "      <td>Revolving loans</td>\n",
              "      <td>M</td>\n",
              "      <td>Y</td>\n",
              "      <td>Y</td>\n",
              "      <td>0</td>\n",
              "      <td>67500.0</td>\n",
              "      <td>135000.0</td>\n",
              "      <td>6750.0</td>\n",
              "      <td>...</td>\n",
              "      <td>0</td>\n",
              "      <td>0</td>\n",
              "      <td>0</td>\n",
              "      <td>0</td>\n",
              "      <td>0.0</td>\n",
              "      <td>0.0</td>\n",
              "      <td>0.0</td>\n",
              "      <td>0.0</td>\n",
              "      <td>0.0</td>\n",
              "      <td>0.0</td>\n",
              "    </tr>\n",
              "    <tr>\n",
              "      <th>3</th>\n",
              "      <td>100006</td>\n",
              "      <td>0</td>\n",
              "      <td>Cash loans</td>\n",
              "      <td>F</td>\n",
              "      <td>N</td>\n",
              "      <td>Y</td>\n",
              "      <td>0</td>\n",
              "      <td>135000.0</td>\n",
              "      <td>312682.5</td>\n",
              "      <td>29686.5</td>\n",
              "      <td>...</td>\n",
              "      <td>0</td>\n",
              "      <td>0</td>\n",
              "      <td>0</td>\n",
              "      <td>0</td>\n",
              "      <td>NaN</td>\n",
              "      <td>NaN</td>\n",
              "      <td>NaN</td>\n",
              "      <td>NaN</td>\n",
              "      <td>NaN</td>\n",
              "      <td>NaN</td>\n",
              "    </tr>\n",
              "    <tr>\n",
              "      <th>4</th>\n",
              "      <td>100007</td>\n",
              "      <td>0</td>\n",
              "      <td>Cash loans</td>\n",
              "      <td>M</td>\n",
              "      <td>N</td>\n",
              "      <td>Y</td>\n",
              "      <td>0</td>\n",
              "      <td>121500.0</td>\n",
              "      <td>513000.0</td>\n",
              "      <td>21865.5</td>\n",
              "      <td>...</td>\n",
              "      <td>0</td>\n",
              "      <td>0</td>\n",
              "      <td>0</td>\n",
              "      <td>0</td>\n",
              "      <td>0.0</td>\n",
              "      <td>0.0</td>\n",
              "      <td>0.0</td>\n",
              "      <td>0.0</td>\n",
              "      <td>0.0</td>\n",
              "      <td>0.0</td>\n",
              "    </tr>\n",
              "    <tr>\n",
              "      <th>...</th>\n",
              "      <td>...</td>\n",
              "      <td>...</td>\n",
              "      <td>...</td>\n",
              "      <td>...</td>\n",
              "      <td>...</td>\n",
              "      <td>...</td>\n",
              "      <td>...</td>\n",
              "      <td>...</td>\n",
              "      <td>...</td>\n",
              "      <td>...</td>\n",
              "      <td>...</td>\n",
              "      <td>...</td>\n",
              "      <td>...</td>\n",
              "      <td>...</td>\n",
              "      <td>...</td>\n",
              "      <td>...</td>\n",
              "      <td>...</td>\n",
              "      <td>...</td>\n",
              "      <td>...</td>\n",
              "      <td>...</td>\n",
              "      <td>...</td>\n",
              "    </tr>\n",
              "    <tr>\n",
              "      <th>307506</th>\n",
              "      <td>456251</td>\n",
              "      <td>0</td>\n",
              "      <td>Cash loans</td>\n",
              "      <td>M</td>\n",
              "      <td>N</td>\n",
              "      <td>N</td>\n",
              "      <td>0</td>\n",
              "      <td>157500.0</td>\n",
              "      <td>254700.0</td>\n",
              "      <td>27558.0</td>\n",
              "      <td>...</td>\n",
              "      <td>0</td>\n",
              "      <td>0</td>\n",
              "      <td>0</td>\n",
              "      <td>0</td>\n",
              "      <td>NaN</td>\n",
              "      <td>NaN</td>\n",
              "      <td>NaN</td>\n",
              "      <td>NaN</td>\n",
              "      <td>NaN</td>\n",
              "      <td>NaN</td>\n",
              "    </tr>\n",
              "    <tr>\n",
              "      <th>307507</th>\n",
              "      <td>456252</td>\n",
              "      <td>0</td>\n",
              "      <td>Cash loans</td>\n",
              "      <td>F</td>\n",
              "      <td>N</td>\n",
              "      <td>Y</td>\n",
              "      <td>0</td>\n",
              "      <td>72000.0</td>\n",
              "      <td>269550.0</td>\n",
              "      <td>12001.5</td>\n",
              "      <td>...</td>\n",
              "      <td>0</td>\n",
              "      <td>0</td>\n",
              "      <td>0</td>\n",
              "      <td>0</td>\n",
              "      <td>NaN</td>\n",
              "      <td>NaN</td>\n",
              "      <td>NaN</td>\n",
              "      <td>NaN</td>\n",
              "      <td>NaN</td>\n",
              "      <td>NaN</td>\n",
              "    </tr>\n",
              "    <tr>\n",
              "      <th>307508</th>\n",
              "      <td>456253</td>\n",
              "      <td>0</td>\n",
              "      <td>Cash loans</td>\n",
              "      <td>F</td>\n",
              "      <td>N</td>\n",
              "      <td>Y</td>\n",
              "      <td>0</td>\n",
              "      <td>153000.0</td>\n",
              "      <td>677664.0</td>\n",
              "      <td>29979.0</td>\n",
              "      <td>...</td>\n",
              "      <td>0</td>\n",
              "      <td>0</td>\n",
              "      <td>0</td>\n",
              "      <td>0</td>\n",
              "      <td>1.0</td>\n",
              "      <td>0.0</td>\n",
              "      <td>0.0</td>\n",
              "      <td>1.0</td>\n",
              "      <td>0.0</td>\n",
              "      <td>1.0</td>\n",
              "    </tr>\n",
              "    <tr>\n",
              "      <th>307509</th>\n",
              "      <td>456254</td>\n",
              "      <td>1</td>\n",
              "      <td>Cash loans</td>\n",
              "      <td>F</td>\n",
              "      <td>N</td>\n",
              "      <td>Y</td>\n",
              "      <td>0</td>\n",
              "      <td>171000.0</td>\n",
              "      <td>370107.0</td>\n",
              "      <td>20205.0</td>\n",
              "      <td>...</td>\n",
              "      <td>0</td>\n",
              "      <td>0</td>\n",
              "      <td>0</td>\n",
              "      <td>0</td>\n",
              "      <td>0.0</td>\n",
              "      <td>0.0</td>\n",
              "      <td>0.0</td>\n",
              "      <td>0.0</td>\n",
              "      <td>0.0</td>\n",
              "      <td>0.0</td>\n",
              "    </tr>\n",
              "    <tr>\n",
              "      <th>307510</th>\n",
              "      <td>456255</td>\n",
              "      <td>0</td>\n",
              "      <td>Cash loans</td>\n",
              "      <td>F</td>\n",
              "      <td>N</td>\n",
              "      <td>N</td>\n",
              "      <td>0</td>\n",
              "      <td>157500.0</td>\n",
              "      <td>675000.0</td>\n",
              "      <td>49117.5</td>\n",
              "      <td>...</td>\n",
              "      <td>0</td>\n",
              "      <td>0</td>\n",
              "      <td>0</td>\n",
              "      <td>0</td>\n",
              "      <td>0.0</td>\n",
              "      <td>0.0</td>\n",
              "      <td>0.0</td>\n",
              "      <td>2.0</td>\n",
              "      <td>0.0</td>\n",
              "      <td>1.0</td>\n",
              "    </tr>\n",
              "  </tbody>\n",
              "</table>\n",
              "<p>307511 rows × 122 columns</p>\n",
              "</div>"
            ],
            "text/plain": [
              "        SK_ID_CURR  TARGET NAME_CONTRACT_TYPE CODE_GENDER FLAG_OWN_CAR  \\\n",
              "0           100002       1         Cash loans           M            N   \n",
              "1           100003       0         Cash loans           F            N   \n",
              "2           100004       0    Revolving loans           M            Y   \n",
              "3           100006       0         Cash loans           F            N   \n",
              "4           100007       0         Cash loans           M            N   \n",
              "...            ...     ...                ...         ...          ...   \n",
              "307506      456251       0         Cash loans           M            N   \n",
              "307507      456252       0         Cash loans           F            N   \n",
              "307508      456253       0         Cash loans           F            N   \n",
              "307509      456254       1         Cash loans           F            N   \n",
              "307510      456255       0         Cash loans           F            N   \n",
              "\n",
              "       FLAG_OWN_REALTY  CNT_CHILDREN  AMT_INCOME_TOTAL  AMT_CREDIT  \\\n",
              "0                    Y             0          202500.0    406597.5   \n",
              "1                    N             0          270000.0   1293502.5   \n",
              "2                    Y             0           67500.0    135000.0   \n",
              "3                    Y             0          135000.0    312682.5   \n",
              "4                    Y             0          121500.0    513000.0   \n",
              "...                ...           ...               ...         ...   \n",
              "307506               N             0          157500.0    254700.0   \n",
              "307507               Y             0           72000.0    269550.0   \n",
              "307508               Y             0          153000.0    677664.0   \n",
              "307509               Y             0          171000.0    370107.0   \n",
              "307510               N             0          157500.0    675000.0   \n",
              "\n",
              "        AMT_ANNUITY  ...  FLAG_DOCUMENT_18 FLAG_DOCUMENT_19 FLAG_DOCUMENT_20  \\\n",
              "0           24700.5  ...                 0                0                0   \n",
              "1           35698.5  ...                 0                0                0   \n",
              "2            6750.0  ...                 0                0                0   \n",
              "3           29686.5  ...                 0                0                0   \n",
              "4           21865.5  ...                 0                0                0   \n",
              "...             ...  ...               ...              ...              ...   \n",
              "307506      27558.0  ...                 0                0                0   \n",
              "307507      12001.5  ...                 0                0                0   \n",
              "307508      29979.0  ...                 0                0                0   \n",
              "307509      20205.0  ...                 0                0                0   \n",
              "307510      49117.5  ...                 0                0                0   \n",
              "\n",
              "       FLAG_DOCUMENT_21 AMT_REQ_CREDIT_BUREAU_HOUR AMT_REQ_CREDIT_BUREAU_DAY  \\\n",
              "0                     0                        0.0                       0.0   \n",
              "1                     0                        0.0                       0.0   \n",
              "2                     0                        0.0                       0.0   \n",
              "3                     0                        NaN                       NaN   \n",
              "4                     0                        0.0                       0.0   \n",
              "...                 ...                        ...                       ...   \n",
              "307506                0                        NaN                       NaN   \n",
              "307507                0                        NaN                       NaN   \n",
              "307508                0                        1.0                       0.0   \n",
              "307509                0                        0.0                       0.0   \n",
              "307510                0                        0.0                       0.0   \n",
              "\n",
              "        AMT_REQ_CREDIT_BUREAU_WEEK  AMT_REQ_CREDIT_BUREAU_MON  \\\n",
              "0                              0.0                        0.0   \n",
              "1                              0.0                        0.0   \n",
              "2                              0.0                        0.0   \n",
              "3                              NaN                        NaN   \n",
              "4                              0.0                        0.0   \n",
              "...                            ...                        ...   \n",
              "307506                         NaN                        NaN   \n",
              "307507                         NaN                        NaN   \n",
              "307508                         0.0                        1.0   \n",
              "307509                         0.0                        0.0   \n",
              "307510                         0.0                        2.0   \n",
              "\n",
              "        AMT_REQ_CREDIT_BUREAU_QRT  AMT_REQ_CREDIT_BUREAU_YEAR  \n",
              "0                             0.0                         1.0  \n",
              "1                             0.0                         0.0  \n",
              "2                             0.0                         0.0  \n",
              "3                             NaN                         NaN  \n",
              "4                             0.0                         0.0  \n",
              "...                           ...                         ...  \n",
              "307506                        NaN                         NaN  \n",
              "307507                        NaN                         NaN  \n",
              "307508                        0.0                         1.0  \n",
              "307509                        0.0                         0.0  \n",
              "307510                        0.0                         1.0  \n",
              "\n",
              "[307511 rows x 122 columns]"
            ]
          },
          "execution_count": 34,
          "metadata": {},
          "output_type": "execute_result"
        }
      ],
      "source": [
        "df_train"
      ]
    },
    {
      "cell_type": "code",
      "execution_count": 11,
      "metadata": {},
      "outputs": [],
      "source": [
        "df_train_main_Join = df_train_main_Join.join(df_auxiliar_bureau_balance, on='SK_ID_BUREAU', lsuffix='main_', how='left')"
      ]
    },
    {
      "cell_type": "code",
      "execution_count": 16,
      "metadata": {},
      "outputs": [
        {
          "data": {
            "text/plain": [
              "Index(['SK_ID_CURRmain_', 'TARGET', 'NAME_CONTRACT_TYPE', 'CODE_GENDER',\n",
              "       'FLAG_OWN_CAR', 'FLAG_OWN_REALTY', 'CNT_CHILDREN', 'AMT_INCOME_TOTAL',\n",
              "       'AMT_CREDIT', 'AMT_ANNUITYmain_',\n",
              "       ...\n",
              "       'AMT_CREDIT_SUM', 'AMT_CREDIT_SUM_DEBT', 'AMT_CREDIT_SUM_LIMIT',\n",
              "       'AMT_CREDIT_SUM_OVERDUE', 'CREDIT_TYPE', 'DAYS_CREDIT_UPDATE',\n",
              "       'AMT_ANNUITY', 'SK_ID_BUREAU', 'MONTHS_BALANCE', 'STATUS'],\n",
              "      dtype='object', length=142)"
            ]
          },
          "execution_count": 16,
          "metadata": {},
          "output_type": "execute_result"
        }
      ],
      "source": [
        "df_train_main_Join.columns.transpose()"
      ]
    },
    {
      "cell_type": "code",
      "execution_count": null,
      "metadata": {
        "colab": {
          "base_uri": "https://localhost:8080/",
          "height": 443
        },
        "id": "bymB4qmNT-tX",
        "outputId": "edd5f4a6-9aad-4a61-f158-f9949d2bbd41"
      },
      "outputs": [],
      "source": [
        "# Visualizando os dados de treino\n",
        "df_train"
      ]
    },
    {
      "cell_type": "code",
      "execution_count": null,
      "metadata": {
        "colab": {
          "base_uri": "https://localhost:8080/",
          "height": 443
        },
        "id": "TqhWkNEo4AlR",
        "outputId": "6e1034c6-8053-4bd3-ee43-073f9943433f"
      },
      "outputs": [],
      "source": [
        "# Visualizando os dados de teste\n",
        "df_test"
      ]
    },
    {
      "cell_type": "code",
      "execution_count": null,
      "metadata": {
        "id": "4m_W7nCk4NL_"
      },
      "outputs": [],
      "source": [
        "# Separar atributos e classe\n",
        "X_train = df_train.drop(columns=[\"ID_code\", \"target\"])  #remove as colunas ID_code e target\n",
        "y_train = df_train[\"target\"]                            #iremos tentar prever a coluna target"
      ]
    },
    {
      "cell_type": "code",
      "execution_count": null,
      "metadata": {
        "colab": {
          "base_uri": "https://localhost:8080/",
          "height": 443
        },
        "id": "zQzMqI5WN22P",
        "outputId": "855900e1-e307-4b43-e1a4-4ed6d9027046"
      },
      "outputs": [],
      "source": [
        "#Removendo o atributo `ID_code`, porque essa coluna não trará informação para a classificação\n",
        "X_test = df_test.drop(columns=[\"ID_code\"])\n",
        "X_test"
      ]
    },
    {
      "cell_type": "markdown",
      "metadata": {
        "id": "uIcEFvNN7lEW"
      },
      "source": [
        "# SELECIONANDO MELHOR CLASSIFICADOR USANDO CROSS_VALIDATE - Não Ajustado"
      ]
    },
    {
      "cell_type": "code",
      "execution_count": null,
      "metadata": {
        "id": "U1Hc_U9s7lEX"
      },
      "outputs": [],
      "source": [
        "#Importanto as Bibliotecas dos classificadores\n",
        "from sklearn.tree         import DecisionTreeClassifier # Árvore de Decisão\n",
        "from sklearn.naive_bayes  import GaussianNB             # Naive Bayes\n",
        "from sklearn.neighbors    import KNeighborsClassifier   # KNN\n",
        "from sklearn.svm          import SVC                    # SVM"
      ]
    },
    {
      "cell_type": "code",
      "execution_count": null,
      "metadata": {
        "id": "5jP3OeVE7lEY"
      },
      "outputs": [],
      "source": [
        "#Lista dos Classificadores\n",
        "classifiers =[#('Árvore de Decisão', DecisionTreeClassifier(random_state=42)),\n",
        "              #('Naive Bayes', GaussianNB()),\n",
        "              #('KNN', KNeighborsClassifier()),\n",
        "              ('SVM', SVC(random_state=42))\n",
        "              ]"
      ]
    },
    {
      "cell_type": "code",
      "execution_count": null,
      "metadata": {
        "id": "yY6tv-tR7lEY",
        "outputId": "bd42fc89-8060-4fe9-959a-690253e97d49"
      },
      "outputs": [],
      "source": [
        "from sklearn.model_selection import cross_validate\n",
        "\n",
        "Resultado=[]\n",
        "for nome, classifier in classifiers:\n",
        "  scores = cross_validate(classifier, X_train, y_train, scoring=[\"f1_macro\", 'precision'], cv = 10)\n",
        "  scores_f1_macro  = scores[\"test_f1_macro\"].mean()\n",
        "  scores_precision = scores[\"test_precision\"].mean()\n",
        "  Resultado.append({'Classificador': nome,\n",
        "                    'f1_macro': scores_f1_macro,\n",
        "                    'precision': scores_precision})"
      ]
    },
    {
      "cell_type": "code",
      "execution_count": null,
      "metadata": {
        "id": "b_udUS837lEZ",
        "outputId": "90ef66ab-97b0-40ba-f0ec-484a8a64787c"
      },
      "outputs": [],
      "source": [
        "Resultado"
      ]
    },
    {
      "cell_type": "markdown",
      "metadata": {
        "id": "LhNgHgeP5bY5"
      },
      "source": [
        "#TREINAMENTO E PREDIÇÃO - Árvore de Decisão"
      ]
    },
    {
      "cell_type": "markdown",
      "metadata": {
        "id": "Qoo_Y_yj3neF"
      },
      "source": [
        "##NÃO AJUSTADO - F1 Macro"
      ]
    },
    {
      "cell_type": "code",
      "execution_count": null,
      "metadata": {
        "id": "_sW_56Io5a1-"
      },
      "outputs": [],
      "source": [
        "#Importando o Classificador\n",
        "from sklearn.tree import DecisionTreeClassifier"
      ]
    },
    {
      "cell_type": "code",
      "execution_count": null,
      "metadata": {
        "id": "02T5gHrT5z8m"
      },
      "outputs": [],
      "source": [
        "# Normalização\n",
        "# Para o classificador Árvore de Decisão a Normalização não faz diferença\n",
        "\n",
        "# Importanto Biblioteca do Normalizador Padrão\n",
        "#from sklearn.preprocessing   import StandardScaler;"
      ]
    },
    {
      "cell_type": "code",
      "execution_count": null,
      "metadata": {
        "id": "tbTtsXAm6Qa3"
      },
      "outputs": [],
      "source": [
        "#Importando biblioteca train_test_split\n",
        "from sklearn.model_selection import train_test_split; # train_test_split do sklearn\n",
        "\n",
        "# Divisão treino/teste\n",
        "X_train_local, X_test_local, y_train_local, y_test_local = train_test_split(X_train, y_train, test_size = 0.3, random_state = 42)"
      ]
    },
    {
      "cell_type": "code",
      "execution_count": null,
      "metadata": {
        "id": "t6pSoJZm72ac"
      },
      "outputs": [],
      "source": [
        "#Instanciamento do classificador\n",
        "classifier = DecisionTreeClassifier(random_state=42,max_depth=10)"
      ]
    },
    {
      "cell_type": "code",
      "execution_count": null,
      "metadata": {
        "colab": {
          "base_uri": "https://localhost:8080/",
          "height": 80
        },
        "id": "MlC68nlv7kWF",
        "outputId": "0a7514c1-79ba-49fe-9bbd-40e88086ca8c"
      },
      "outputs": [],
      "source": [
        "#Treinamento do Classificador\n",
        "classifier.fit(X_train_local, y_train_local)\n"
      ]
    },
    {
      "cell_type": "code",
      "execution_count": null,
      "metadata": {
        "id": "lfolPu3P93Ew"
      },
      "outputs": [],
      "source": [
        "#Predição do Modelo Local\n",
        "y_pred_local = classifier.predict(X_test_local)"
      ]
    },
    {
      "cell_type": "code",
      "execution_count": null,
      "metadata": {
        "colab": {
          "base_uri": "https://localhost:8080/"
        },
        "id": "KdIFFnpm_mIg",
        "outputId": "2b0c8c61-2ba2-4bd0-9575-9a3b8fb62dec"
      },
      "outputs": [],
      "source": [
        "#Determinação do F1 Score Macro\n",
        "\n",
        "#Importando Biblioteca de Métricas - F1 Score Macro\n",
        "from sklearn.metrics import f1_score\n",
        "\n",
        "#Calculo do accuracy_score\n",
        "f1_sc = f1_score(y_test_local,y_pred_local, average = 'macro')\n",
        "f1_sc"
      ]
    },
    {
      "cell_type": "code",
      "execution_count": null,
      "metadata": {
        "id": "Az5gMN0N-uWA"
      },
      "outputs": [],
      "source": [
        "#Predição do Modelo com os dados de Teste Global\n",
        "predictions = classifier.predict(X_test)"
      ]
    },
    {
      "cell_type": "code",
      "execution_count": null,
      "metadata": {
        "id": "aD-5Qmrc--jK"
      },
      "outputs": [],
      "source": [
        "#Geração do Data Frame das predições com o Teste Global\n",
        "df_test[\"target\"] = predictions"
      ]
    },
    {
      "cell_type": "code",
      "execution_count": null,
      "metadata": {
        "colab": {
          "base_uri": "https://localhost:8080/",
          "height": 423
        },
        "id": "KWvxkDdG-_X2",
        "outputId": "cc27291a-a6e1-4698-d72c-9123be5937d8"
      },
      "outputs": [],
      "source": [
        "#Exibição do Data Frame que será enviado para o Kaggle\n",
        "df_test[[\"ID_code\",\"target\"]]"
      ]
    },
    {
      "cell_type": "code",
      "execution_count": null,
      "metadata": {
        "id": "j3xon74f_EPo"
      },
      "outputs": [],
      "source": [
        "#Salvar o Data Frame que será enviado ao Kaggle em um arquivo .CSV\n",
        "df_test[[\"ID_code\",\"target\"]].to_csv(\"solucao-2025_ArvoreDecisao_NãoAjustado_F1Score.csv\", index=False)"
      ]
    },
    {
      "cell_type": "markdown",
      "metadata": {
        "id": "6lBrRXID4Szm"
      },
      "source": [
        "##AJUSTADO - F1 Macro"
      ]
    },
    {
      "cell_type": "code",
      "execution_count": null,
      "metadata": {
        "id": "j_LYwch94Szn"
      },
      "outputs": [],
      "source": [
        "#Importando o Classificador\n",
        "from sklearn.tree import DecisionTreeClassifier"
      ]
    },
    {
      "cell_type": "code",
      "execution_count": null,
      "metadata": {
        "id": "Y4FgwTFM4Szn"
      },
      "outputs": [],
      "source": [
        "# Normalização\n",
        "# Para o classificador Árvore de Decisão a Normalização não faz diferença\n",
        "\n",
        "# Importanto Biblioteca do Normalizador Padrão\n",
        "#from sklearn.preprocessing   import StandardScaler;"
      ]
    },
    {
      "cell_type": "code",
      "execution_count": null,
      "metadata": {
        "id": "unLKtAqS4Szo"
      },
      "outputs": [],
      "source": [
        "#Importando biblioteca train_test_split\n",
        "from sklearn.model_selection import train_test_split; # train_test_split do sklearn\n",
        "\n",
        "# Divisão treino/teste\n",
        "X_train_local, X_test_local, y_train_local, y_test_local = train_test_split(X_train, y_train, test_size = 0.3, random_state = 42)"
      ]
    },
    {
      "cell_type": "code",
      "execution_count": null,
      "metadata": {
        "id": "n1_sQB8r4Szo"
      },
      "outputs": [],
      "source": [
        "#Instanciamento do classificador\n",
        "#Hiperparâmetro ajustado = max_depth = 30\n",
        "classifier = DecisionTreeClassifier(random_state=42,max_depth=30)"
      ]
    },
    {
      "cell_type": "code",
      "execution_count": null,
      "metadata": {
        "colab": {
          "base_uri": "https://localhost:8080/",
          "height": 80
        },
        "id": "wzU6wZE84Szo",
        "outputId": "73ffd49f-5701-492b-c22f-39c495ed6aee"
      },
      "outputs": [],
      "source": [
        "#Treinamento do Classificador\n",
        "classifier.fit(X_train_local, y_train_local)\n"
      ]
    },
    {
      "cell_type": "code",
      "execution_count": null,
      "metadata": {
        "id": "V77FctAT4Szp"
      },
      "outputs": [],
      "source": [
        "#Predição do Modelo Local\n",
        "y_pred_local = classifier.predict(X_test_local)"
      ]
    },
    {
      "cell_type": "code",
      "execution_count": null,
      "metadata": {
        "colab": {
          "base_uri": "https://localhost:8080/"
        },
        "id": "BeHXa7in4Szp",
        "outputId": "94411a13-6e54-4a0e-b572-19ddf935959d"
      },
      "outputs": [],
      "source": [
        "#Determinação do F1 Score Macro\n",
        "\n",
        "#Importando Biblioteca de Métricas - F1 Score Macro\n",
        "from sklearn.metrics import f1_score\n",
        "\n",
        "#Calculo do accuracy_score\n",
        "f1_sc = f1_score(y_test_local,y_pred_local, average = 'macro')\n",
        "f1_sc"
      ]
    },
    {
      "cell_type": "code",
      "execution_count": null,
      "metadata": {
        "id": "rl-rmGk04Szp"
      },
      "outputs": [],
      "source": [
        "#Predição do Modelo com os dados de Teste Global\n",
        "predictions = classifier.predict(X_test)"
      ]
    },
    {
      "cell_type": "code",
      "execution_count": null,
      "metadata": {
        "id": "3qAJ2VPS4Szq"
      },
      "outputs": [],
      "source": [
        "#Geração do Data Frame das predições com o Teste Global\n",
        "df_test[\"target\"] = predictions"
      ]
    },
    {
      "cell_type": "code",
      "execution_count": null,
      "metadata": {
        "colab": {
          "base_uri": "https://localhost:8080/",
          "height": 423
        },
        "id": "V6pM6Q3K4Szq",
        "outputId": "f954807e-246c-4ae9-ddfe-adbb338b57a5"
      },
      "outputs": [],
      "source": [
        "#Exibição do Data Frame que será enviado para o Kaggle\n",
        "df_test[[\"ID_code\",\"target\"]]"
      ]
    },
    {
      "cell_type": "code",
      "execution_count": null,
      "metadata": {
        "id": "IB2EtP0i4Szq"
      },
      "outputs": [],
      "source": [
        "#Salvar o Data Frame que será enviado ao Kaggle em um arquivo .CSV\n",
        "df_test[[\"ID_code\",\"target\"]].to_csv(\"solucao-2025_ArvoreDecisao_Ajustado_F1Score.csv\", index=False)"
      ]
    },
    {
      "cell_type": "markdown",
      "metadata": {
        "id": "OIc6Rllz40KD"
      },
      "source": [
        "#TREINAMENTO E PREDIÇÃO - Naive Bayes"
      ]
    },
    {
      "cell_type": "markdown",
      "metadata": {
        "id": "_gFhIc-V40KE"
      },
      "source": [
        "##NÃO AJUSTADO - F1 Macro"
      ]
    },
    {
      "cell_type": "code",
      "execution_count": null,
      "metadata": {
        "id": "ZjTDOC3O40KE"
      },
      "outputs": [],
      "source": [
        "#Importando o Classificador\n",
        "from sklearn.naive_bayes import GaussianNB"
      ]
    },
    {
      "cell_type": "code",
      "execution_count": null,
      "metadata": {
        "id": "4vgXC86l40KF"
      },
      "outputs": [],
      "source": [
        "# Normalização\n",
        "# Para o classificador Naive Bayes a Normalização não faz diferença\n",
        "\n",
        "# Importanto Biblioteca do Normalizador Padrão\n",
        "#from sklearn.preprocessing   import StandardScaler;"
      ]
    },
    {
      "cell_type": "code",
      "execution_count": null,
      "metadata": {
        "id": "0x6qmtX440KF"
      },
      "outputs": [],
      "source": [
        "#Importando biblioteca train_test_split\n",
        "from sklearn.model_selection import train_test_split; # train_test_split do sklearn\n",
        "\n",
        "# Divisão treino/teste\n",
        "X_train_local, X_test_local, y_train_local, y_test_local = train_test_split(X_train, y_train, test_size = 0.3, random_state = 42)"
      ]
    },
    {
      "cell_type": "code",
      "execution_count": null,
      "metadata": {
        "id": "9qfPA1XX40KF"
      },
      "outputs": [],
      "source": [
        "#Instanciamento do classificador\n",
        "classifier = GaussianNB()"
      ]
    },
    {
      "cell_type": "code",
      "execution_count": null,
      "metadata": {
        "colab": {
          "base_uri": "https://localhost:8080/",
          "height": 80
        },
        "id": "6uVvqHQz40KF",
        "outputId": "e1d28443-725e-4693-f997-ff389030e8be"
      },
      "outputs": [],
      "source": [
        "#Treinamento do Classificador\n",
        "classifier.fit(X_train_local, y_train_local)\n"
      ]
    },
    {
      "cell_type": "code",
      "execution_count": null,
      "metadata": {
        "id": "GzINX3lr40KG"
      },
      "outputs": [],
      "source": [
        "#Predição do Modelo Local\n",
        "y_pred_local = classifier.predict(X_test_local)"
      ]
    },
    {
      "cell_type": "code",
      "execution_count": null,
      "metadata": {
        "colab": {
          "base_uri": "https://localhost:8080/"
        },
        "id": "9wpHn17_40KH",
        "outputId": "6b4c8e6e-de4c-40a4-bc7a-cda53eaa0257"
      },
      "outputs": [],
      "source": [
        "#Determinação do F1 Score Macro\n",
        "\n",
        "#Importando Biblioteca de Métricas - F1 Score Macro\n",
        "from sklearn.metrics import f1_score\n",
        "\n",
        "#Calculo do accuracy_score\n",
        "f1_sc = f1_score(y_test_local,y_pred_local, average = 'macro')\n",
        "f1_sc"
      ]
    },
    {
      "cell_type": "code",
      "execution_count": null,
      "metadata": {
        "id": "6ol36Son40KI"
      },
      "outputs": [],
      "source": [
        "#Predição do Modelo com os dados de Teste Global\n",
        "predictions = classifier.predict(X_test)"
      ]
    },
    {
      "cell_type": "code",
      "execution_count": null,
      "metadata": {
        "id": "AIao4rlb40KJ"
      },
      "outputs": [],
      "source": [
        "#Geração do Data Frame das predições com o Teste Global\n",
        "df_test[\"target\"] = predictions"
      ]
    },
    {
      "cell_type": "code",
      "execution_count": null,
      "metadata": {
        "colab": {
          "base_uri": "https://localhost:8080/",
          "height": 423
        },
        "id": "0Wdz2lMm40KJ",
        "outputId": "aaabd8b4-13c4-4a3b-adcb-ff13e3ee2f7e"
      },
      "outputs": [],
      "source": [
        "#Exibição do Data Frame que será enviado para o Kaggle\n",
        "df_test[[\"ID_code\",\"target\"]]"
      ]
    },
    {
      "cell_type": "code",
      "execution_count": null,
      "metadata": {
        "id": "j8UkHFdm40KK"
      },
      "outputs": [],
      "source": [
        "#Salvar o Data Frame que será enviado ao Kaggle em um arquivo .CSV\n",
        "df_test[[\"ID_code\",\"target\"]].to_csv(\"solucao-2025_NaiveBayes_NãoAjustado_F1Score.csv\", index=False)"
      ]
    },
    {
      "cell_type": "markdown",
      "metadata": {
        "id": "Jg6U39k08EN9"
      },
      "source": [
        "##AJUSTADO - F1 Macro"
      ]
    },
    {
      "cell_type": "code",
      "execution_count": null,
      "metadata": {
        "id": "Dljh6sQq8EN-"
      },
      "outputs": [],
      "source": [
        "#Importando o Classificador\n",
        "from sklearn.naive_bayes import GaussianNB"
      ]
    },
    {
      "cell_type": "code",
      "execution_count": null,
      "metadata": {
        "id": "am4xRSmi8EN-"
      },
      "outputs": [],
      "source": [
        "# Normalização\n",
        "# Para o classificador Naive Bayes a Normalização não faz diferença\n",
        "\n",
        "# Importanto Biblioteca do Normalizador Padrão\n",
        "#from sklearn.preprocessing   import StandardScaler;"
      ]
    },
    {
      "cell_type": "code",
      "execution_count": null,
      "metadata": {
        "id": "rvMWks0B8EN-"
      },
      "outputs": [],
      "source": [
        "#Importando biblioteca train_test_split\n",
        "from sklearn.model_selection import train_test_split; # train_test_split do sklearn\n",
        "\n",
        "# Divisão treino/teste\n",
        "X_train_local, X_test_local, y_train_local, y_test_local = train_test_split(X_train, y_train, test_size = 0.3, random_state = 42)"
      ]
    },
    {
      "cell_type": "code",
      "execution_count": null,
      "metadata": {
        "id": "05u8Ki5f8EN-"
      },
      "outputs": [],
      "source": [
        "#Instanciamento do classificador\n",
        "#Hiperparâmetro ajustado: var_smoothing=1e-7\n",
        "classifier = GaussianNB(var_smoothing=1e-7)"
      ]
    },
    {
      "cell_type": "code",
      "execution_count": null,
      "metadata": {
        "colab": {
          "base_uri": "https://localhost:8080/",
          "height": 80
        },
        "id": "PEO1AE_y8EN_",
        "outputId": "0545d591-6005-4dbf-d81b-f525f83f1d55"
      },
      "outputs": [],
      "source": [
        "#Treinamento do Classificador\n",
        "classifier.fit(X_train_local, y_train_local)\n"
      ]
    },
    {
      "cell_type": "code",
      "execution_count": null,
      "metadata": {
        "id": "A7_tsOzD8EN_"
      },
      "outputs": [],
      "source": [
        "#Predição do Modelo Local\n",
        "y_pred_local = classifier.predict(X_test_local)"
      ]
    },
    {
      "cell_type": "code",
      "execution_count": null,
      "metadata": {
        "colab": {
          "base_uri": "https://localhost:8080/"
        },
        "id": "fy3q03u08EN_",
        "outputId": "af6c82ad-a028-4dc5-c738-8dd87e82ce61"
      },
      "outputs": [],
      "source": [
        "#Determinação do F1 Score Macro\n",
        "\n",
        "#Importando Biblioteca de Métricas - F1 Score Macro\n",
        "from sklearn.metrics import f1_score\n",
        "\n",
        "#Calculo do accuracy_score\n",
        "f1_sc = f1_score(y_test_local,y_pred_local, average = 'macro')\n",
        "f1_sc"
      ]
    },
    {
      "cell_type": "code",
      "execution_count": null,
      "metadata": {
        "id": "n6D6YK408EN_"
      },
      "outputs": [],
      "source": [
        "#Predição do Modelo com os dados de Teste Global\n",
        "predictions = classifier.predict(X_test)"
      ]
    },
    {
      "cell_type": "code",
      "execution_count": null,
      "metadata": {
        "id": "b_uy5gxy8EOA"
      },
      "outputs": [],
      "source": [
        "#Geração do Data Frame das predições com o Teste Global\n",
        "df_test[\"target\"] = predictions"
      ]
    },
    {
      "cell_type": "code",
      "execution_count": null,
      "metadata": {
        "colab": {
          "base_uri": "https://localhost:8080/",
          "height": 423
        },
        "id": "0cwdAnoS8EOA",
        "outputId": "be2b7f35-fc3e-4179-ba4a-b73de81ece9a"
      },
      "outputs": [],
      "source": [
        "#Exibição do Data Frame que será enviado para o Kaggle\n",
        "df_test[[\"ID_code\",\"target\"]]"
      ]
    },
    {
      "cell_type": "code",
      "execution_count": null,
      "metadata": {
        "id": "i2YiXUWv8EOA"
      },
      "outputs": [],
      "source": [
        "#Salvar o Data Frame que será enviado ao Kaggle em um arquivo .CSV\n",
        "df_test[[\"ID_code\",\"target\"]].to_csv(\"solucao-2025_NaiveBayes_Ajustado_F1Score.csv\", index=False)"
      ]
    },
    {
      "cell_type": "markdown",
      "metadata": {
        "id": "AE4F_MBw53o-"
      },
      "source": [
        "#TREINAMENTO E PREDIÇÃO - kNN"
      ]
    },
    {
      "cell_type": "markdown",
      "metadata": {
        "id": "MVGhmQo553o-"
      },
      "source": [
        "##NÃO AJUSTADO - F1 Macro"
      ]
    },
    {
      "cell_type": "code",
      "execution_count": null,
      "metadata": {
        "id": "SV5I0zmR53o_"
      },
      "outputs": [],
      "source": [
        "#Importando o Classificador\n",
        "from sklearn.neighbors import KNeighborsClassifier"
      ]
    },
    {
      "cell_type": "code",
      "execution_count": null,
      "metadata": {
        "id": "mY6PtYfs53o_"
      },
      "outputs": [],
      "source": [
        "# Normalização\n",
        "# Para o classificador kNN a Normalização faz diferença\n",
        "\n",
        "# Importanto Biblioteca do Normalizador Padrão\n",
        "from sklearn.preprocessing   import StandardScaler;\n",
        "\n",
        "scaler = StandardScaler()\n",
        "X_train_Scaled = scaler.fit_transform(X_train)"
      ]
    },
    {
      "cell_type": "code",
      "execution_count": null,
      "metadata": {
        "id": "Xj9V0ezd53o_"
      },
      "outputs": [],
      "source": [
        "#Importando biblioteca train_test_split\n",
        "from sklearn.model_selection import train_test_split; # train_test_split do sklearn\n",
        "\n",
        "# Divisão treino/teste\n",
        "X_train_local, X_test_local, y_train_local, y_test_local = train_test_split(X_train_Scaled, y_train, test_size = 0.3, random_state = 42)"
      ]
    },
    {
      "cell_type": "code",
      "execution_count": null,
      "metadata": {
        "id": "cj-iS9PT53o_"
      },
      "outputs": [],
      "source": [
        "#Instanciamento do classificador\n",
        "classifier = KNeighborsClassifier()"
      ]
    },
    {
      "cell_type": "code",
      "execution_count": null,
      "metadata": {
        "colab": {
          "base_uri": "https://localhost:8080/",
          "height": 80
        },
        "id": "RLmHhVeT53pA",
        "outputId": "d36dc614-13e9-4035-ee79-c49f557f7ad8"
      },
      "outputs": [],
      "source": [
        "#Treinamento do Classificador\n",
        "classifier.fit(X_train_local, y_train_local)\n"
      ]
    },
    {
      "cell_type": "code",
      "execution_count": null,
      "metadata": {
        "id": "qNbCfGr353pA"
      },
      "outputs": [],
      "source": [
        "#Predição do Modelo Local\n",
        "y_pred_local = classifier.predict(X_test_local)"
      ]
    },
    {
      "cell_type": "code",
      "execution_count": null,
      "metadata": {
        "colab": {
          "base_uri": "https://localhost:8080/"
        },
        "id": "KdYqR5LG53pB",
        "outputId": "db9d1cfc-10ec-4e25-f2c2-e62b7028ee7c"
      },
      "outputs": [],
      "source": [
        "#Determinação do F1 Score Macro\n",
        "\n",
        "#Importando Biblioteca de Métricas - F1 Score Macro\n",
        "from sklearn.metrics import f1_score\n",
        "\n",
        "#Calculo do accuracy_score\n",
        "f1_sc = f1_score(y_test_local,y_pred_local, average = 'macro')\n",
        "f1_sc"
      ]
    },
    {
      "cell_type": "code",
      "execution_count": null,
      "metadata": {
        "colab": {
          "base_uri": "https://localhost:8080/"
        },
        "id": "WaDZsDYN53pB",
        "outputId": "4d54212f-dd40-47f0-cf25-85fa4de814aa"
      },
      "outputs": [],
      "source": [
        "#Predição do Modelo com os dados de Teste Global\n",
        "predictions = classifier.predict(X_test)"
      ]
    },
    {
      "cell_type": "code",
      "execution_count": null,
      "metadata": {
        "id": "PQ0v9Bnt53pB"
      },
      "outputs": [],
      "source": [
        "#Geração do Data Frame das predições com o Teste Global\n",
        "df_test[\"target\"] = predictions"
      ]
    },
    {
      "cell_type": "code",
      "execution_count": null,
      "metadata": {
        "colab": {
          "base_uri": "https://localhost:8080/",
          "height": 423
        },
        "id": "CU_4tAOM53pB",
        "outputId": "8baccc3b-9d08-4008-a634-d838d8cdb95f"
      },
      "outputs": [],
      "source": [
        "#Exibição do Data Frame que será enviado para o Kaggle\n",
        "df_test[[\"ID_code\",\"target\"]]"
      ]
    },
    {
      "cell_type": "code",
      "execution_count": null,
      "metadata": {
        "id": "wUontssm53pC"
      },
      "outputs": [],
      "source": [
        "#Salvar o Data Frame que será enviado ao Kaggle em um arquivo .CSV\n",
        "df_test[[\"ID_code\",\"target\"]].to_csv(\"solucao-2025_kNN_NãoAjustado_F1Score.csv\", index=False)"
      ]
    },
    {
      "cell_type": "markdown",
      "metadata": {
        "id": "B7gsxYTy8x02"
      },
      "source": [
        "##AJUSTADO - F1 Macro"
      ]
    },
    {
      "cell_type": "code",
      "execution_count": null,
      "metadata": {
        "id": "lXcHfCoc8x03"
      },
      "outputs": [],
      "source": [
        "#Importando o Classificador\n",
        "from sklearn.neighbors import KNeighborsClassifier"
      ]
    },
    {
      "cell_type": "code",
      "execution_count": null,
      "metadata": {
        "id": "Htu2BUPl8x04"
      },
      "outputs": [],
      "source": [
        "# Normalização\n",
        "# Para o classificador kNN a Normalização faz diferença\n",
        "\n",
        "# Importanto Biblioteca do Normalizador Padrão\n",
        "from sklearn.preprocessing   import StandardScaler;\n",
        "\n",
        "scaler = StandardScaler()\n",
        "X_train_Scaled = scaler.fit_transform(X_train)"
      ]
    },
    {
      "cell_type": "code",
      "execution_count": null,
      "metadata": {
        "id": "iIlRyy3s8x04"
      },
      "outputs": [],
      "source": [
        "#Importando biblioteca train_test_split\n",
        "from sklearn.model_selection import train_test_split; # train_test_split do sklearn\n",
        "\n",
        "# Divisão treino/teste\n",
        "X_train_local, X_test_local, y_train_local, y_test_local = train_test_split(X_train_Scaled, y_train, test_size = 0.3, random_state = 42)"
      ]
    },
    {
      "cell_type": "code",
      "execution_count": null,
      "metadata": {
        "id": "AA4tGy2y8x04"
      },
      "outputs": [],
      "source": [
        "#Instanciamento do classificador\n",
        "classifier = KNeighborsClassifier(n_neighbors = 5,        #Número de Vizinhos\n",
        "                                  weights = \"distance\",   #Peso/Ponderação dado pela distância dos vizinhos\n",
        "                                  metric='euclidean')     #Distância euclidiana"
      ]
    },
    {
      "cell_type": "code",
      "execution_count": null,
      "metadata": {
        "colab": {
          "base_uri": "https://localhost:8080/",
          "height": 80
        },
        "id": "7VctFPz88x04",
        "outputId": "b9415ebf-f2bc-4ca3-9830-a920a0f4870d"
      },
      "outputs": [],
      "source": [
        "  #Treinamento do Classificador\n",
        "classifier.fit(X_train_local, y_train_local)\n"
      ]
    },
    {
      "cell_type": "code",
      "execution_count": null,
      "metadata": {
        "id": "i-SoC4_G8x05"
      },
      "outputs": [],
      "source": [
        "#Predição do Modelo Local\n",
        "y_pred_local = classifier.predict(X_test_local)"
      ]
    },
    {
      "cell_type": "code",
      "execution_count": null,
      "metadata": {
        "colab": {
          "base_uri": "https://localhost:8080/"
        },
        "id": "c4FQ3MyD8x06",
        "outputId": "4afca386-2eaa-41c3-be91-e4379d9c0d21"
      },
      "outputs": [],
      "source": [
        "#Determinação do F1 Score Macro\n",
        "\n",
        "#Importando Biblioteca de Métricas - F1 Score Macro\n",
        "from sklearn.metrics import f1_score\n",
        "\n",
        "#Calculo do accuracy_score\n",
        "f1_sc = f1_score(y_test_local,y_pred_local, average = 'macro')\n",
        "f1_sc"
      ]
    },
    {
      "cell_type": "code",
      "execution_count": null,
      "metadata": {
        "colab": {
          "base_uri": "https://localhost:8080/"
        },
        "id": "PUQf0e8s8x06",
        "outputId": "351334ae-3b36-4f10-ed0b-3557792d6aad"
      },
      "outputs": [],
      "source": [
        "#Predição do Modelo com os dados de Teste Global\n",
        "predictions = classifier.predict(X_test)"
      ]
    },
    {
      "cell_type": "code",
      "execution_count": null,
      "metadata": {
        "id": "LdQdyD8o8x06"
      },
      "outputs": [],
      "source": [
        "#Geração do Data Frame das predições com o Teste Global\n",
        "df_test[\"target\"] = predictions"
      ]
    },
    {
      "cell_type": "code",
      "execution_count": null,
      "metadata": {
        "colab": {
          "base_uri": "https://localhost:8080/",
          "height": 423
        },
        "id": "IkA8NM_t8x07",
        "outputId": "5a7a1976-d654-408d-8bc5-9f89cf3b796e"
      },
      "outputs": [],
      "source": [
        "#Exibição do Data Frame que será enviado para o Kaggle\n",
        "df_test[[\"ID_code\",\"target\"]]"
      ]
    },
    {
      "cell_type": "code",
      "execution_count": null,
      "metadata": {
        "id": "qUbk_gTY8x07"
      },
      "outputs": [],
      "source": [
        "#Salvar o Data Frame que será enviado ao Kaggle em um arquivo .CSV\n",
        "df_test[[\"ID_code\",\"target\"]].to_csv(\"solucao-2025_kNN_Ajustado_F1Score.csv\", index=False)"
      ]
    },
    {
      "cell_type": "markdown",
      "metadata": {
        "id": "ry5MDuGUqDcB"
      },
      "source": [
        "#TREINAMENTO E PREDIÇÃO - SVM"
      ]
    },
    {
      "cell_type": "markdown",
      "metadata": {
        "id": "KLAWaFE0qDcK"
      },
      "source": [
        "##NÃO AJUSTADO - F1 Macro"
      ]
    },
    {
      "cell_type": "code",
      "execution_count": null,
      "metadata": {
        "id": "vrHlv2AEqDcL"
      },
      "outputs": [],
      "source": [
        "#Importando o Classificador\n",
        "from sklearn.svm import SVC"
      ]
    },
    {
      "cell_type": "code",
      "execution_count": null,
      "metadata": {
        "id": "oxfVbCooqDcL"
      },
      "outputs": [],
      "source": [
        "# Normalização\n",
        "# Para o classificador kNN a Normalização faz diferença\n",
        "\n",
        "# Importanto Biblioteca do Normalizador Padrão\n",
        "from sklearn.preprocessing   import StandardScaler;\n",
        "\n",
        "scaler = StandardScaler()\n",
        "X_train_Scaled = scaler.fit_transform(X_train)"
      ]
    },
    {
      "cell_type": "code",
      "execution_count": null,
      "metadata": {
        "id": "y2Ly2qVvqDcL"
      },
      "outputs": [],
      "source": [
        "#Importando biblioteca train_test_split\n",
        "from sklearn.model_selection import train_test_split; # train_test_split do sklearn\n",
        "\n",
        "# Divisão treino/teste\n",
        "X_train_local, X_test_local, y_train_local, y_test_local = train_test_split(X_train_Scaled, y_train, test_size = 0.3, random_state = 42)"
      ]
    },
    {
      "cell_type": "code",
      "execution_count": null,
      "metadata": {
        "id": "F4yzX6FIqDcL"
      },
      "outputs": [],
      "source": [
        "#Instanciamento do classificador\n",
        "classifier = SVC(random_state=42)"
      ]
    },
    {
      "cell_type": "code",
      "execution_count": null,
      "metadata": {
        "colab": {
          "base_uri": "https://localhost:8080/",
          "height": 80
        },
        "id": "MmWA9dcEqDcM",
        "outputId": "f8ab9618-6965-4540-8e44-813b89528f20"
      },
      "outputs": [],
      "source": [
        "#Treinamento do Classificador\n",
        "classifier.fit(X_train_local, y_train_local)\n"
      ]
    },
    {
      "cell_type": "code",
      "execution_count": null,
      "metadata": {
        "id": "Jeyy3ArTqDcM"
      },
      "outputs": [],
      "source": [
        "#Predição do Modelo Local\n",
        "y_pred_local = classifier.predict(X_test_local)"
      ]
    },
    {
      "cell_type": "code",
      "execution_count": null,
      "metadata": {
        "id": "7JyKqng7qDcM",
        "outputId": "2cb1fda1-9ec1-469f-d3d7-0013ea144328"
      },
      "outputs": [],
      "source": [
        "#Determinação do F1 Score Macro\n",
        "\n",
        "#Importando Biblioteca de Métricas - F1 Score Macro\n",
        "from sklearn.metrics import f1_score\n",
        "\n",
        "#Calculo do accuracy_score\n",
        "f1_sc = f1_score(y_test_local,y_pred_local, average = 'macro')\n",
        "f1_sc"
      ]
    },
    {
      "cell_type": "code",
      "execution_count": null,
      "metadata": {
        "id": "gRh8Gwn-qDcM",
        "outputId": "68d59e50-4bb0-476a-d9fe-0e0e25c86fc7"
      },
      "outputs": [],
      "source": [
        "#Predição do Modelo com os dados de Teste Global\n",
        "predictions = classifier.predict(X_test)"
      ]
    },
    {
      "cell_type": "code",
      "execution_count": null,
      "metadata": {
        "id": "YAgfb01vqDcN"
      },
      "outputs": [],
      "source": [
        "#Geração do Data Frame das predições com o Teste Global\n",
        "df_test[\"target\"] = predictions"
      ]
    },
    {
      "cell_type": "code",
      "execution_count": null,
      "metadata": {
        "id": "sLmSe8PMqDcN",
        "outputId": "cb0540c8-b689-4181-9e2a-bb97db7bbc14"
      },
      "outputs": [],
      "source": [
        "#Exibição do Data Frame que será enviado para o Kaggle\n",
        "df_test[[\"ID_code\",\"target\"]]"
      ]
    },
    {
      "cell_type": "code",
      "execution_count": null,
      "metadata": {
        "id": "24KQcOp4qDcO"
      },
      "outputs": [],
      "source": [
        "#Salvar o Data Frame que será enviado ao Kaggle em um arquivo .CSV\n",
        "df_test[[\"ID_code\",\"target\"]].to_csv(\"solucao-2025_SVM_NãoAjustado_F1Score.csv\", index=False)"
      ]
    },
    {
      "cell_type": "markdown",
      "metadata": {
        "id": "X9Jhi2zQqDcO"
      },
      "source": [
        "##AJUSTADO - F1 Macro"
      ]
    },
    {
      "cell_type": "code",
      "execution_count": null,
      "metadata": {
        "id": "FeB-8UagqDcO"
      },
      "outputs": [],
      "source": [
        "#Importando o Classificador\n",
        "from sklearn.svm import SVC"
      ]
    },
    {
      "cell_type": "code",
      "execution_count": null,
      "metadata": {
        "id": "D9DEkiuFqDcO"
      },
      "outputs": [],
      "source": [
        "# Normalização\n",
        "# Para o classificador kNN a Normalização faz diferença\n",
        "\n",
        "# Importanto Biblioteca do Normalizador Padrão\n",
        "from sklearn.preprocessing   import StandardScaler;\n",
        "\n",
        "scaler = StandardScaler()\n",
        "X_train_Scaled = scaler.fit_transform(X_train)"
      ]
    },
    {
      "cell_type": "code",
      "execution_count": null,
      "metadata": {
        "id": "8mGpOzZ6qDcO"
      },
      "outputs": [],
      "source": [
        "#Importando biblioteca train_test_split\n",
        "from sklearn.model_selection import train_test_split; # train_test_split do sklearn\n",
        "\n",
        "# Divisão treino/teste\n",
        "X_train_local, X_test_local, y_train_local, y_test_local = train_test_split(X_train_Scaled, y_train, test_size = 0.3, random_state = 42)"
      ]
    },
    {
      "cell_type": "code",
      "execution_count": null,
      "metadata": {
        "id": "tsDdxaWRqDcP"
      },
      "outputs": [],
      "source": [
        "#Instanciamento do classificador\n",
        "classifier = SVC(random_state=42,   #seed randômica\n",
        "                 C =3.0,            #sensibilidade da margem\n",
        "                 degree = 3,        #grau do polinômio\n",
        "                 kernel = 'poly')   #tipo de ajuste"
      ]
    },
    {
      "cell_type": "code",
      "execution_count": null,
      "metadata": {
        "id": "Uuvt3PgnqDcP",
        "outputId": "26baf525-cfb0-42e1-86cd-2beab52b37ac"
      },
      "outputs": [],
      "source": [
        "#Treinamento do Classificador\n",
        "classifier.fit(X_train_local, y_train_local)\n"
      ]
    },
    {
      "cell_type": "code",
      "execution_count": null,
      "metadata": {
        "id": "IDg4iE9iqDcP"
      },
      "outputs": [],
      "source": [
        "#Predição do Modelo Local\n",
        "y_pred_local = classifier.predict(X_test_local)"
      ]
    },
    {
      "cell_type": "code",
      "execution_count": null,
      "metadata": {
        "id": "M7AUCeFOqDcP",
        "outputId": "62ef3278-1438-4a9b-82af-16a548837ed3"
      },
      "outputs": [],
      "source": [
        "#Determinação do F1 Score Macro\n",
        "\n",
        "#Importando Biblioteca de Métricas - F1 Score Macro\n",
        "from sklearn.metrics import f1_score\n",
        "\n",
        "#Calculo do accuracy_score\n",
        "f1_sc = f1_score(y_test_local,y_pred_local, average = 'macro')\n",
        "f1_sc"
      ]
    },
    {
      "cell_type": "code",
      "execution_count": null,
      "metadata": {
        "id": "EX-nZckBqDcQ",
        "outputId": "388a656d-ac0f-4052-edb9-ebe5bf3569c7"
      },
      "outputs": [],
      "source": [
        "#Predição do Modelo com os dados de Teste Global\n",
        "predictions = classifier.predict(X_test)"
      ]
    },
    {
      "cell_type": "code",
      "execution_count": null,
      "metadata": {
        "id": "l33vXkiIqDcQ"
      },
      "outputs": [],
      "source": [
        "#Geração do Data Frame das predições com o Teste Global\n",
        "df_test[\"target\"] = predictions"
      ]
    },
    {
      "cell_type": "code",
      "execution_count": null,
      "metadata": {
        "id": "gupZN8MBqDcQ",
        "outputId": "01b215bd-0886-46b4-e7fe-c12ead384385"
      },
      "outputs": [],
      "source": [
        "#Exibição do Data Frame que será enviado para o Kaggle\n",
        "df_test[[\"ID_code\",\"target\"]]"
      ]
    },
    {
      "cell_type": "code",
      "execution_count": null,
      "metadata": {
        "id": "znh-7hJ7qDcQ"
      },
      "outputs": [],
      "source": [
        "#Salvar o Data Frame que será enviado ao Kaggle em um arquivo .CSV\n",
        "df_test[[\"ID_code\",\"target\"]].to_csv(\"solucao-2025_SVM_Ajustado_F1Score.csv\", index=False)"
      ]
    },
    {
      "cell_type": "markdown",
      "metadata": {
        "id": "AsoH8M3x7lFT"
      },
      "source": [
        "# SELECIONANDO MELHOR CLASSIFICADOR USANDO CROSS_VALIDATE - Ajustado"
      ]
    },
    {
      "cell_type": "code",
      "execution_count": null,
      "metadata": {
        "id": "eDkAWzBE7lFT"
      },
      "outputs": [],
      "source": [
        "#Lista dos Classificadores\n",
        "classifiers =[#('Árvore de Decisão', DecisionTreeClassifier(random_state=42, max_depth= 30)),\n",
        "              ('Naive Bayes', GaussianNB(var_smoothing=1e-7)),\n",
        "              #('KNN', KNeighborsClassifier(n_neighbors = 5,        #Número de Vizinhos\n",
        "              #                              weights = \"distance\",  #Peso/Ponderação dado pela distância dos vizinhos\n",
        "              #                              metric='euclidean')),  #Distância euclidiana\n",
        "              #('SVM', SVC(random_state=42,     #seed randômica\n",
        "              #              C =3.0,            #sensibilidade da margem\n",
        "              #              degree = 3,        #grau do polinômio\n",
        "              #              kernel = 'poly',   #tipo de ajuste\n",
        "              #              max_iter = 1000))\n",
        "              ]"
      ]
    },
    {
      "cell_type": "code",
      "execution_count": null,
      "metadata": {
        "id": "A9sssLT07lFU"
      },
      "outputs": [],
      "source": [
        "from sklearn.model_selection import cross_validate\n",
        "\n",
        "Resultado=[]\n",
        "for nome, classifier in classifiers:\n",
        "    if nome in ['KNN', 'SVM']:\n",
        "        fracao_dataFrame = df_train.sample(frac=0.2, random_state=42)  # Seleciona 20% aleatório do DataFrame\n",
        "        X_train_frac = fracao_dataFrame.drop(columns=[\"ID_code\", \"target\"])  #Separar atributos e remove as colunas ID_code e target\n",
        "        y_train_frac = fracao_dataFrame[\"target\"]                            #Separar clases e iremos tentar prever a coluna target\n",
        "        scores = cross_validate(classifier, X_train_frac, y_train_frac, scoring=[\"f1_macro\"], cv = 10)\n",
        "    else:\n",
        "        scores = cross_validate(classifier, X_train, y_train, scoring=[\"f1_macro\"], cv = 10)\n",
        "\n",
        "    scores_f1_macro  = scores[\"test_f1_macro\"].mean()\n",
        "    Resultado.append({'Classificador': nome,\n",
        "                    'f1_macro': scores_f1_macro\n",
        "                    })"
      ]
    },
    {
      "cell_type": "code",
      "execution_count": null,
      "metadata": {
        "id": "HLoJbiyy7lFV",
        "outputId": "254a4ab8-4490-475e-e114-2d203fc8e187"
      },
      "outputs": [],
      "source": [
        "Resultado"
      ]
    },
    {
      "cell_type": "code",
      "execution_count": null,
      "metadata": {
        "id": "a_mp0IJ_7lFW"
      },
      "outputs": [],
      "source": [
        "#Treinamento do Classificador\n",
        "classifier.fit(X_train_local, y_train_local)\n",
        "\n",
        "#Predição do Modelo com os dados de Teste Global\n",
        "predictions = classifier.predict(X_test.values)\n",
        "\n",
        "#Geração do Data Frame das predições com o Teste Global\n",
        "df_test[\"target\"] = predictions\n",
        "\n",
        "#Exibição do Data Frame que será enviado para o Kaggle\n",
        "df_test[[\"ID_code\",\"target\"]]\n",
        "\n",
        "#Salvar o Data Frame que será enviado ao Kaggle em um arquivo .CSV\n",
        "df_test[[\"ID_code\",\"target\"]].to_csv(\"solucao-2025_NaiveBayes_Ajustado+CrosValidade_F1Score.csv\", index=False)\n"
      ]
    },
    {
      "cell_type": "markdown",
      "metadata": {
        "id": "bQj6wTq_gEV8"
      },
      "source": [
        "#RESULTADOS"
      ]
    },
    {
      "cell_type": "markdown",
      "metadata": {
        "id": "B--Zhen4iuS1"
      },
      "source": [
        "Após a realização das simulações e geração dos arquivos para submissão mo Kaggle,obteve-se os seguintes resultados após submissão"
      ]
    },
    {
      "cell_type": "markdown",
      "metadata": {
        "id": "rL3WXjvI8LHY"
      },
      "source": [
        "![image.png](data:image/png;base64,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)"
      ]
    },
    {
      "cell_type": "markdown",
      "metadata": {
        "id": "R-Y2xpfujR9r"
      },
      "source": [
        "Consolidando os resultados de todas os F1 Macro encontrados chegou-se aos resultados mostrados na tabela abaixo"
      ]
    },
    {
      "cell_type": "markdown",
      "metadata": {
        "id": "dhJ-LPSd8ZMt"
      },
      "source": [
        "![image.png](data:image/png;base64,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)"
      ]
    },
    {
      "cell_type": "markdown",
      "metadata": {
        "id": "X9ZI-31_9i3t"
      },
      "source": [
        "De um modo geral, a validação cruzada trouxe melhorias na predição dos modelos.A exceção fica a cargo do SVM que teve comportamento quase que aleatório. O melhor classificador em todos os testes foi o Naive Bayes, não sendo observado diferença significativa entre os testes com hiperparâmetros ajustados e não ajustados. Um diferença significativa aconteceu quando os dados preditos pelo Naive Bayes foram testados, após validação cruzada e ajustes, no Kaggle. O F1 macro foi de 0,50, sugerindo um overfiting do modelo."
      ]
    }
  ],
  "metadata": {
    "colab": {
      "collapsed_sections": [
        "LhNgHgeP5bY5",
        "OIc6Rllz40KD"
      ],
      "provenance": []
    },
    "kernelspec": {
      "display_name": "Python 3",
      "name": "python3"
    },
    "language_info": {
      "codemirror_mode": {
        "name": "ipython",
        "version": 3
      },
      "file_extension": ".py",
      "mimetype": "text/x-python",
      "name": "python",
      "nbconvert_exporter": "python",
      "pygments_lexer": "ipython3",
      "version": "3.12.5"
    }
  },
  "nbformat": 4,
  "nbformat_minor": 0
}
