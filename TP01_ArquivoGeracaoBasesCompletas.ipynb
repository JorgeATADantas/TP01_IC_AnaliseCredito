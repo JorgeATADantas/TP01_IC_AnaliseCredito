{
 "cells": [
  {
   "cell_type": "markdown",
   "id": "daea48f9",
   "metadata": {},
   "source": [
    "# ARQUIVO PARA GERAÇÃO OS ARQUIVOS PARA TRATAMENTO"
   ]
  },
  {
   "cell_type": "code",
   "execution_count": 1,
   "id": "9c379cf3",
   "metadata": {},
   "outputs": [],
   "source": [
    "#Importando Bibliotecas Pertinentes\n",
    "import pandas as pd\n",
    "\n",
    "import warnings\n",
    "warnings.simplefilter(\"ignore\")\n",
    "\n",
    "#Otimizador Giovanni\n",
    "#from sklearnex import patch_sklearn \n",
    "#patch_sklearn()"
   ]
  },
  {
   "cell_type": "code",
   "execution_count": 2,
   "id": "b1d77f42",
   "metadata": {},
   "outputs": [],
   "source": [
    "#PATH'S\n",
    "\n",
    "#CSV_PATH = \"/home/gi/Desktop/Semestre8/Inteligencia_Computacional/TP1_csvs\" # Path Giovanni\n",
    "CSV_PATH = \"E:/Documentos/CEFET/OneDrive/Documentos/2ECOM067_INTELIGENCIA-COMPUTACIONAL-I_T01/TP1/bases/\" # Path Jorge"
   ]
  },
  {
   "cell_type": "code",
   "execution_count": 3,
   "id": "2c645583",
   "metadata": {},
   "outputs": [],
   "source": [
    "#Carregando bases de dados principal (treino/test)\n",
    "#df_train = pd.read_csv(f\"{CSV_PATH}/application_train.csv\")\n",
    "df_test  = pd.read_csv(f\"{CSV_PATH}/application_test.csv\")\n",
    "\n",
    "#Carregando bases de dados auxiliares\n",
    "df_auxiliar_bureau                          = pd.read_csv(f\"{CSV_PATH}/bureau.csv\")\n",
    "#df_auxiliar_bureau_balance                  = pd.read_csv(f\"{CSV_PATH}/bureau_balance.csv\")\n",
    "#df_auxiliar_previous_application            = pd.read_csv(f\"{CSV_PATH}/previous_application.csv\")\n",
    "#df_auxiliar_POS_CASH_balance                = pd.read_csv(f\"{CSV_PATH}/POS_CASH_balance.csv\")\n",
    "#df_auxiliar_installments_payments           = pd.read_csv(f\"{CSV_PATH}/installments_payments.csv\")\n",
    "#df_auxiliar_credit_card_balances            = pd.read_csv(f\"{CSV_PATH}/credit_card_balance.csv\")"
   ]
  },
  {
   "cell_type": "code",
   "execution_count": 4,
   "id": "4e7bfcc6",
   "metadata": {},
   "outputs": [
    {
     "name": "stdout",
     "output_type": "stream",
     "text": [
      "<class 'pandas.core.frame.DataFrame'>\n",
      "RangeIndex: 48744 entries, 0 to 48743\n",
      "Data columns (total 121 columns):\n",
      " #    Column                        Non-Null Count  Dtype  \n",
      "---   ------                        --------------  -----  \n",
      " 0    SK_ID_CURR                    48744 non-null  int64  \n",
      " 1    NAME_CONTRACT_TYPE            48744 non-null  object \n",
      " 2    CODE_GENDER                   48744 non-null  object \n",
      " 3    FLAG_OWN_CAR                  48744 non-null  object \n",
      " 4    FLAG_OWN_REALTY               48744 non-null  object \n",
      " 5    CNT_CHILDREN                  48744 non-null  int64  \n",
      " 6    AMT_INCOME_TOTAL              48744 non-null  float64\n",
      " 7    AMT_CREDIT                    48744 non-null  float64\n",
      " 8    AMT_ANNUITY                   48720 non-null  float64\n",
      " 9    AMT_GOODS_PRICE               48744 non-null  float64\n",
      " 10   NAME_TYPE_SUITE               47833 non-null  object \n",
      " 11   NAME_INCOME_TYPE              48744 non-null  object \n",
      " 12   NAME_EDUCATION_TYPE           48744 non-null  object \n",
      " 13   NAME_FAMILY_STATUS            48744 non-null  object \n",
      " 14   NAME_HOUSING_TYPE             48744 non-null  object \n",
      " 15   REGION_POPULATION_RELATIVE    48744 non-null  float64\n",
      " 16   DAYS_BIRTH                    48744 non-null  int64  \n",
      " 17   DAYS_EMPLOYED                 48744 non-null  int64  \n",
      " 18   DAYS_REGISTRATION             48744 non-null  float64\n",
      " 19   DAYS_ID_PUBLISH               48744 non-null  int64  \n",
      " 20   OWN_CAR_AGE                   16432 non-null  float64\n",
      " 21   FLAG_MOBIL                    48744 non-null  int64  \n",
      " 22   FLAG_EMP_PHONE                48744 non-null  int64  \n",
      " 23   FLAG_WORK_PHONE               48744 non-null  int64  \n",
      " 24   FLAG_CONT_MOBILE              48744 non-null  int64  \n",
      " 25   FLAG_PHONE                    48744 non-null  int64  \n",
      " 26   FLAG_EMAIL                    48744 non-null  int64  \n",
      " 27   OCCUPATION_TYPE               33139 non-null  object \n",
      " 28   CNT_FAM_MEMBERS               48744 non-null  float64\n",
      " 29   REGION_RATING_CLIENT          48744 non-null  int64  \n",
      " 30   REGION_RATING_CLIENT_W_CITY   48744 non-null  int64  \n",
      " 31   WEEKDAY_APPR_PROCESS_START    48744 non-null  object \n",
      " 32   HOUR_APPR_PROCESS_START       48744 non-null  int64  \n",
      " 33   REG_REGION_NOT_LIVE_REGION    48744 non-null  int64  \n",
      " 34   REG_REGION_NOT_WORK_REGION    48744 non-null  int64  \n",
      " 35   LIVE_REGION_NOT_WORK_REGION   48744 non-null  int64  \n",
      " 36   REG_CITY_NOT_LIVE_CITY        48744 non-null  int64  \n",
      " 37   REG_CITY_NOT_WORK_CITY        48744 non-null  int64  \n",
      " 38   LIVE_CITY_NOT_WORK_CITY       48744 non-null  int64  \n",
      " 39   ORGANIZATION_TYPE             48744 non-null  object \n",
      " 40   EXT_SOURCE_1                  28212 non-null  float64\n",
      " 41   EXT_SOURCE_2                  48736 non-null  float64\n",
      " 42   EXT_SOURCE_3                  40076 non-null  float64\n",
      " 43   APARTMENTS_AVG                24857 non-null  float64\n",
      " 44   BASEMENTAREA_AVG              21103 non-null  float64\n",
      " 45   YEARS_BEGINEXPLUATATION_AVG   25888 non-null  float64\n",
      " 46   YEARS_BUILD_AVG               16926 non-null  float64\n",
      " 47   COMMONAREA_AVG                15249 non-null  float64\n",
      " 48   ELEVATORS_AVG                 23555 non-null  float64\n",
      " 49   ENTRANCES_AVG                 25165 non-null  float64\n",
      " 50   FLOORSMAX_AVG                 25423 non-null  float64\n",
      " 51   FLOORSMIN_AVG                 16278 non-null  float64\n",
      " 52   LANDAREA_AVG                  20490 non-null  float64\n",
      " 53   LIVINGAPARTMENTS_AVG          15964 non-null  float64\n",
      " 54   LIVINGAREA_AVG                25192 non-null  float64\n",
      " 55   NONLIVINGAPARTMENTS_AVG       15397 non-null  float64\n",
      " 56   NONLIVINGAREA_AVG             22660 non-null  float64\n",
      " 57   APARTMENTS_MODE               24857 non-null  float64\n",
      " 58   BASEMENTAREA_MODE             21103 non-null  float64\n",
      " 59   YEARS_BEGINEXPLUATATION_MODE  25888 non-null  float64\n",
      " 60   YEARS_BUILD_MODE              16926 non-null  float64\n",
      " 61   COMMONAREA_MODE               15249 non-null  float64\n",
      " 62   ELEVATORS_MODE                23555 non-null  float64\n",
      " 63   ENTRANCES_MODE                25165 non-null  float64\n",
      " 64   FLOORSMAX_MODE                25423 non-null  float64\n",
      " 65   FLOORSMIN_MODE                16278 non-null  float64\n",
      " 66   LANDAREA_MODE                 20490 non-null  float64\n",
      " 67   LIVINGAPARTMENTS_MODE         15964 non-null  float64\n",
      " 68   LIVINGAREA_MODE               25192 non-null  float64\n",
      " 69   NONLIVINGAPARTMENTS_MODE      15397 non-null  float64\n",
      " 70   NONLIVINGAREA_MODE            22660 non-null  float64\n",
      " 71   APARTMENTS_MEDI               24857 non-null  float64\n",
      " 72   BASEMENTAREA_MEDI             21103 non-null  float64\n",
      " 73   YEARS_BEGINEXPLUATATION_MEDI  25888 non-null  float64\n",
      " 74   YEARS_BUILD_MEDI              16926 non-null  float64\n",
      " 75   COMMONAREA_MEDI               15249 non-null  float64\n",
      " 76   ELEVATORS_MEDI                23555 non-null  float64\n",
      " 77   ENTRANCES_MEDI                25165 non-null  float64\n",
      " 78   FLOORSMAX_MEDI                25423 non-null  float64\n",
      " 79   FLOORSMIN_MEDI                16278 non-null  float64\n",
      " 80   LANDAREA_MEDI                 20490 non-null  float64\n",
      " 81   LIVINGAPARTMENTS_MEDI         15964 non-null  float64\n",
      " 82   LIVINGAREA_MEDI               25192 non-null  float64\n",
      " 83   NONLIVINGAPARTMENTS_MEDI      15397 non-null  float64\n",
      " 84   NONLIVINGAREA_MEDI            22660 non-null  float64\n",
      " 85   FONDKAPREMONT_MODE            15947 non-null  object \n",
      " 86   HOUSETYPE_MODE                25125 non-null  object \n",
      " 87   TOTALAREA_MODE                26120 non-null  float64\n",
      " 88   WALLSMATERIAL_MODE            24851 non-null  object \n",
      " 89   EMERGENCYSTATE_MODE           26535 non-null  object \n",
      " 90   OBS_30_CNT_SOCIAL_CIRCLE      48715 non-null  float64\n",
      " 91   DEF_30_CNT_SOCIAL_CIRCLE      48715 non-null  float64\n",
      " 92   OBS_60_CNT_SOCIAL_CIRCLE      48715 non-null  float64\n",
      " 93   DEF_60_CNT_SOCIAL_CIRCLE      48715 non-null  float64\n",
      " 94   DAYS_LAST_PHONE_CHANGE        48744 non-null  float64\n",
      " 95   FLAG_DOCUMENT_2               48744 non-null  int64  \n",
      " 96   FLAG_DOCUMENT_3               48744 non-null  int64  \n",
      " 97   FLAG_DOCUMENT_4               48744 non-null  int64  \n",
      " 98   FLAG_DOCUMENT_5               48744 non-null  int64  \n",
      " 99   FLAG_DOCUMENT_6               48744 non-null  int64  \n",
      " 100  FLAG_DOCUMENT_7               48744 non-null  int64  \n",
      " 101  FLAG_DOCUMENT_8               48744 non-null  int64  \n",
      " 102  FLAG_DOCUMENT_9               48744 non-null  int64  \n",
      " 103  FLAG_DOCUMENT_10              48744 non-null  int64  \n",
      " 104  FLAG_DOCUMENT_11              48744 non-null  int64  \n",
      " 105  FLAG_DOCUMENT_12              48744 non-null  int64  \n",
      " 106  FLAG_DOCUMENT_13              48744 non-null  int64  \n",
      " 107  FLAG_DOCUMENT_14              48744 non-null  int64  \n",
      " 108  FLAG_DOCUMENT_15              48744 non-null  int64  \n",
      " 109  FLAG_DOCUMENT_16              48744 non-null  int64  \n",
      " 110  FLAG_DOCUMENT_17              48744 non-null  int64  \n",
      " 111  FLAG_DOCUMENT_18              48744 non-null  int64  \n",
      " 112  FLAG_DOCUMENT_19              48744 non-null  int64  \n",
      " 113  FLAG_DOCUMENT_20              48744 non-null  int64  \n",
      " 114  FLAG_DOCUMENT_21              48744 non-null  int64  \n",
      " 115  AMT_REQ_CREDIT_BUREAU_HOUR    42695 non-null  float64\n",
      " 116  AMT_REQ_CREDIT_BUREAU_DAY     42695 non-null  float64\n",
      " 117  AMT_REQ_CREDIT_BUREAU_WEEK    42695 non-null  float64\n",
      " 118  AMT_REQ_CREDIT_BUREAU_MON     42695 non-null  float64\n",
      " 119  AMT_REQ_CREDIT_BUREAU_QRT     42695 non-null  float64\n",
      " 120  AMT_REQ_CREDIT_BUREAU_YEAR    42695 non-null  float64\n",
      "dtypes: float64(65), int64(40), object(16)\n",
      "memory usage: 45.0+ MB\n"
     ]
    }
   ],
   "source": [
    "df_test.info(max_cols=300)"
   ]
  },
  {
   "cell_type": "code",
   "execution_count": null,
   "id": "dc7d0b22",
   "metadata": {},
   "outputs": [],
   "source": [
    "#Realizando as junções das bases (TREINO)\n",
    "\n",
    "df_train = df_train.join(df_auxiliar_bureau, on='SK_ID_CURR', lsuffix = '_duplicate', how='left')\n",
    "df_train = df_train.join(df_auxiliar_bureau_balance, on='SK_ID_BUREAU', lsuffix = '_duplicate2', how='left')\n",
    "df_train = df_train.join(df_auxiliar_previous_application, on='SK_ID_CURR', lsuffix = '_duplicate3', how='left')\n",
    "df_train = df_train.join(df_auxiliar_POS_CASH_balance, on='SK_ID_PREV', lsuffix = '_duplicate4', how='left')\n",
    "df_train = df_train.join(df_auxiliar_installments_payments, on='SK_ID_PREV', lsuffix = '_duplicate5', how='left')\n",
    "df_train = df_train.join(df_auxiliar_credit_card_balances, on='SK_ID_PREV', lsuffix = '_duplicate6', how='left')\n",
    "\n",
    "#Dropando colunas duplicadas\n",
    "sufixos = ['_duplicate', '_duplicate2', '_duplicate3', '_duplicate4', '_duplicate5', '_duplicate6']\n",
    "df_train = df_train.loc[:, ~df_train.columns.str.endswith(tuple(sufixos))] #Localiza todas as linhas (:), cujas colunas NÃO (~) tem os sufixos...\n",
    "\n",
    "# Removendo caracteres especiais das colunas\n",
    "import re\n",
    "df_train.columns = [re.sub(r'[^\\w]', '', col) for col in df_train.columns]\n",
    "\n",
    "# Salvando o dataFrame resultante em um arquivo CSV\n",
    "df_train.to_csv(f\"df_train_full.csv\", index=False)\n",
    "print(df_train.shape)"
   ]
  },
  {
   "cell_type": "code",
   "execution_count": null,
   "id": "0812cb28",
   "metadata": {},
   "outputs": [],
   "source": [
    "df_train.info(max_cols=1000)"
   ]
  },
  {
   "cell_type": "code",
   "execution_count": 5,
   "id": "0c5407e6",
   "metadata": {},
   "outputs": [
    {
     "ename": "MemoryError",
     "evalue": "Unable to allocate 1.34 GiB for an array with shape (105, 1716428) and data type float64",
     "output_type": "error",
     "traceback": [
      "\u001b[1;31m---------------------------------------------------------------------------\u001b[0m",
      "\u001b[1;31mMemoryError\u001b[0m                               Traceback (most recent call last)",
      "Cell \u001b[1;32mIn[5], line 3\u001b[0m\n\u001b[0;32m      1\u001b[0m \u001b[38;5;66;03m#Realizando as junções das bases (TESTE)\u001b[39;00m\n\u001b[1;32m----> 3\u001b[0m df_test \u001b[38;5;241m=\u001b[39m \u001b[43mdf_test\u001b[49m\u001b[38;5;241;43m.\u001b[39;49m\u001b[43mjoin\u001b[49m\u001b[43m(\u001b[49m\u001b[43mdf_auxiliar_bureau\u001b[49m\u001b[43m,\u001b[49m\u001b[43m \u001b[49m\u001b[43mon\u001b[49m\u001b[38;5;241;43m=\u001b[39;49m\u001b[38;5;124;43m'\u001b[39;49m\u001b[38;5;124;43mSK_ID_CURR\u001b[39;49m\u001b[38;5;124;43m'\u001b[39;49m\u001b[43m,\u001b[49m\u001b[43m \u001b[49m\u001b[43mlsuffix\u001b[49m\u001b[43m \u001b[49m\u001b[38;5;241;43m=\u001b[39;49m\u001b[43m \u001b[49m\u001b[38;5;124;43m'\u001b[39;49m\u001b[38;5;124;43m_duplicate\u001b[39;49m\u001b[38;5;124;43m'\u001b[39;49m\u001b[43m,\u001b[49m\u001b[43m \u001b[49m\u001b[43mhow\u001b[49m\u001b[38;5;241;43m=\u001b[39;49m\u001b[38;5;124;43m'\u001b[39;49m\u001b[38;5;124;43mright\u001b[39;49m\u001b[38;5;124;43m'\u001b[39;49m\u001b[43m)\u001b[49m\n\u001b[0;32m      4\u001b[0m \u001b[38;5;66;03m#df_test_1 = df_test_1.join(df_auxiliar_bureau_balance, on='SK_ID_BUREAU', lsuffix = '_duplicate2', how='left')\u001b[39;00m\n\u001b[0;32m      5\u001b[0m \u001b[38;5;66;03m#df_test_1 = df_test_1.join(df_auxiliar_previous_application, on='SK_ID_CURR', lsuffix = '_duplicate3', how='left')\u001b[39;00m\n\u001b[0;32m      6\u001b[0m \u001b[38;5;66;03m#df_test_1 = df_test_1.join(df_auxiliar_POS_CASH_balance, on='SK_ID_PREV', lsuffix = '_duplicate4', how='left')\u001b[39;00m\n\u001b[1;32m   (...)\u001b[0m\n\u001b[0;32m     18\u001b[0m \u001b[38;5;66;03m#df_test_1.to_csv(f\"df_test_full.csv\", index=False)\u001b[39;00m\n\u001b[0;32m     19\u001b[0m \u001b[38;5;66;03m#print(df_test_1.shape)    \u001b[39;00m\n",
      "File \u001b[1;32m~\\AppData\\Roaming\\Python\\Python312\\site-packages\\pandas\\core\\frame.py:10757\u001b[0m, in \u001b[0;36mDataFrame.join\u001b[1;34m(self, other, on, how, lsuffix, rsuffix, sort, validate)\u001b[0m\n\u001b[0;32m  10747\u001b[0m     \u001b[38;5;28;01mif\u001b[39;00m how \u001b[38;5;241m==\u001b[39m \u001b[38;5;124m\"\u001b[39m\u001b[38;5;124mcross\u001b[39m\u001b[38;5;124m\"\u001b[39m:\n\u001b[0;32m  10748\u001b[0m         \u001b[38;5;28;01mreturn\u001b[39;00m merge(\n\u001b[0;32m  10749\u001b[0m             \u001b[38;5;28mself\u001b[39m,\n\u001b[0;32m  10750\u001b[0m             other,\n\u001b[1;32m   (...)\u001b[0m\n\u001b[0;32m  10755\u001b[0m             validate\u001b[38;5;241m=\u001b[39mvalidate,\n\u001b[0;32m  10756\u001b[0m         )\n\u001b[1;32m> 10757\u001b[0m     \u001b[38;5;28;01mreturn\u001b[39;00m \u001b[43mmerge\u001b[49m\u001b[43m(\u001b[49m\n\u001b[0;32m  10758\u001b[0m \u001b[43m        \u001b[49m\u001b[38;5;28;43mself\u001b[39;49m\u001b[43m,\u001b[49m\n\u001b[0;32m  10759\u001b[0m \u001b[43m        \u001b[49m\u001b[43mother\u001b[49m\u001b[43m,\u001b[49m\n\u001b[0;32m  10760\u001b[0m \u001b[43m        \u001b[49m\u001b[43mleft_on\u001b[49m\u001b[38;5;241;43m=\u001b[39;49m\u001b[43mon\u001b[49m\u001b[43m,\u001b[49m\n\u001b[0;32m  10761\u001b[0m \u001b[43m        \u001b[49m\u001b[43mhow\u001b[49m\u001b[38;5;241;43m=\u001b[39;49m\u001b[43mhow\u001b[49m\u001b[43m,\u001b[49m\n\u001b[0;32m  10762\u001b[0m \u001b[43m        \u001b[49m\u001b[43mleft_index\u001b[49m\u001b[38;5;241;43m=\u001b[39;49m\u001b[43mon\u001b[49m\u001b[43m \u001b[49m\u001b[38;5;129;43;01mis\u001b[39;49;00m\u001b[43m \u001b[49m\u001b[38;5;28;43;01mNone\u001b[39;49;00m\u001b[43m,\u001b[49m\n\u001b[0;32m  10763\u001b[0m \u001b[43m        \u001b[49m\u001b[43mright_index\u001b[49m\u001b[38;5;241;43m=\u001b[39;49m\u001b[38;5;28;43;01mTrue\u001b[39;49;00m\u001b[43m,\u001b[49m\n\u001b[0;32m  10764\u001b[0m \u001b[43m        \u001b[49m\u001b[43msuffixes\u001b[49m\u001b[38;5;241;43m=\u001b[39;49m\u001b[43m(\u001b[49m\u001b[43mlsuffix\u001b[49m\u001b[43m,\u001b[49m\u001b[43m \u001b[49m\u001b[43mrsuffix\u001b[49m\u001b[43m)\u001b[49m\u001b[43m,\u001b[49m\n\u001b[0;32m  10765\u001b[0m \u001b[43m        \u001b[49m\u001b[43msort\u001b[49m\u001b[38;5;241;43m=\u001b[39;49m\u001b[43msort\u001b[49m\u001b[43m,\u001b[49m\n\u001b[0;32m  10766\u001b[0m \u001b[43m        \u001b[49m\u001b[43mvalidate\u001b[49m\u001b[38;5;241;43m=\u001b[39;49m\u001b[43mvalidate\u001b[49m\u001b[43m,\u001b[49m\n\u001b[0;32m  10767\u001b[0m \u001b[43m    \u001b[49m\u001b[43m)\u001b[49m\n\u001b[0;32m  10768\u001b[0m \u001b[38;5;28;01melse\u001b[39;00m:\n\u001b[0;32m  10769\u001b[0m     \u001b[38;5;28;01mif\u001b[39;00m on \u001b[38;5;129;01mis\u001b[39;00m \u001b[38;5;129;01mnot\u001b[39;00m \u001b[38;5;28;01mNone\u001b[39;00m:\n",
      "File \u001b[1;32m~\\AppData\\Roaming\\Python\\Python312\\site-packages\\pandas\\core\\reshape\\merge.py:184\u001b[0m, in \u001b[0;36mmerge\u001b[1;34m(left, right, how, on, left_on, right_on, left_index, right_index, sort, suffixes, copy, indicator, validate)\u001b[0m\n\u001b[0;32m    169\u001b[0m \u001b[38;5;28;01melse\u001b[39;00m:\n\u001b[0;32m    170\u001b[0m     op \u001b[38;5;241m=\u001b[39m _MergeOperation(\n\u001b[0;32m    171\u001b[0m         left_df,\n\u001b[0;32m    172\u001b[0m         right_df,\n\u001b[1;32m   (...)\u001b[0m\n\u001b[0;32m    182\u001b[0m         validate\u001b[38;5;241m=\u001b[39mvalidate,\n\u001b[0;32m    183\u001b[0m     )\n\u001b[1;32m--> 184\u001b[0m     \u001b[38;5;28;01mreturn\u001b[39;00m \u001b[43mop\u001b[49m\u001b[38;5;241;43m.\u001b[39;49m\u001b[43mget_result\u001b[49m\u001b[43m(\u001b[49m\u001b[43mcopy\u001b[49m\u001b[38;5;241;43m=\u001b[39;49m\u001b[43mcopy\u001b[49m\u001b[43m)\u001b[49m\n",
      "File \u001b[1;32m~\\AppData\\Roaming\\Python\\Python312\\site-packages\\pandas\\core\\reshape\\merge.py:888\u001b[0m, in \u001b[0;36m_MergeOperation.get_result\u001b[1;34m(self, copy)\u001b[0m\n\u001b[0;32m    884\u001b[0m     \u001b[38;5;28mself\u001b[39m\u001b[38;5;241m.\u001b[39mleft, \u001b[38;5;28mself\u001b[39m\u001b[38;5;241m.\u001b[39mright \u001b[38;5;241m=\u001b[39m \u001b[38;5;28mself\u001b[39m\u001b[38;5;241m.\u001b[39m_indicator_pre_merge(\u001b[38;5;28mself\u001b[39m\u001b[38;5;241m.\u001b[39mleft, \u001b[38;5;28mself\u001b[39m\u001b[38;5;241m.\u001b[39mright)\n\u001b[0;32m    886\u001b[0m join_index, left_indexer, right_indexer \u001b[38;5;241m=\u001b[39m \u001b[38;5;28mself\u001b[39m\u001b[38;5;241m.\u001b[39m_get_join_info()\n\u001b[1;32m--> 888\u001b[0m result \u001b[38;5;241m=\u001b[39m \u001b[38;5;28;43mself\u001b[39;49m\u001b[38;5;241;43m.\u001b[39;49m\u001b[43m_reindex_and_concat\u001b[49m\u001b[43m(\u001b[49m\n\u001b[0;32m    889\u001b[0m \u001b[43m    \u001b[49m\u001b[43mjoin_index\u001b[49m\u001b[43m,\u001b[49m\u001b[43m \u001b[49m\u001b[43mleft_indexer\u001b[49m\u001b[43m,\u001b[49m\u001b[43m \u001b[49m\u001b[43mright_indexer\u001b[49m\u001b[43m,\u001b[49m\u001b[43m \u001b[49m\u001b[43mcopy\u001b[49m\u001b[38;5;241;43m=\u001b[39;49m\u001b[43mcopy\u001b[49m\n\u001b[0;32m    890\u001b[0m \u001b[43m\u001b[49m\u001b[43m)\u001b[49m\n\u001b[0;32m    891\u001b[0m result \u001b[38;5;241m=\u001b[39m result\u001b[38;5;241m.\u001b[39m__finalize__(\u001b[38;5;28mself\u001b[39m, method\u001b[38;5;241m=\u001b[39m\u001b[38;5;28mself\u001b[39m\u001b[38;5;241m.\u001b[39m_merge_type)\n\u001b[0;32m    893\u001b[0m \u001b[38;5;28;01mif\u001b[39;00m \u001b[38;5;28mself\u001b[39m\u001b[38;5;241m.\u001b[39mindicator:\n",
      "File \u001b[1;32m~\\AppData\\Roaming\\Python\\Python312\\site-packages\\pandas\\core\\reshape\\merge.py:879\u001b[0m, in \u001b[0;36m_MergeOperation._reindex_and_concat\u001b[1;34m(self, join_index, left_indexer, right_indexer, copy)\u001b[0m\n\u001b[0;32m    877\u001b[0m left\u001b[38;5;241m.\u001b[39mcolumns \u001b[38;5;241m=\u001b[39m llabels\n\u001b[0;32m    878\u001b[0m right\u001b[38;5;241m.\u001b[39mcolumns \u001b[38;5;241m=\u001b[39m rlabels\n\u001b[1;32m--> 879\u001b[0m result \u001b[38;5;241m=\u001b[39m \u001b[43mconcat\u001b[49m\u001b[43m(\u001b[49m\u001b[43m[\u001b[49m\u001b[43mleft\u001b[49m\u001b[43m,\u001b[49m\u001b[43m \u001b[49m\u001b[43mright\u001b[49m\u001b[43m]\u001b[49m\u001b[43m,\u001b[49m\u001b[43m \u001b[49m\u001b[43maxis\u001b[49m\u001b[38;5;241;43m=\u001b[39;49m\u001b[38;5;241;43m1\u001b[39;49m\u001b[43m,\u001b[49m\u001b[43m \u001b[49m\u001b[43mcopy\u001b[49m\u001b[38;5;241;43m=\u001b[39;49m\u001b[43mcopy\u001b[49m\u001b[43m)\u001b[49m\n\u001b[0;32m    880\u001b[0m \u001b[38;5;28;01mreturn\u001b[39;00m result\n",
      "File \u001b[1;32m~\\AppData\\Roaming\\Python\\Python312\\site-packages\\pandas\\core\\reshape\\concat.py:395\u001b[0m, in \u001b[0;36mconcat\u001b[1;34m(objs, axis, join, ignore_index, keys, levels, names, verify_integrity, sort, copy)\u001b[0m\n\u001b[0;32m    380\u001b[0m     copy \u001b[38;5;241m=\u001b[39m \u001b[38;5;28;01mFalse\u001b[39;00m\n\u001b[0;32m    382\u001b[0m op \u001b[38;5;241m=\u001b[39m _Concatenator(\n\u001b[0;32m    383\u001b[0m     objs,\n\u001b[0;32m    384\u001b[0m     axis\u001b[38;5;241m=\u001b[39maxis,\n\u001b[1;32m   (...)\u001b[0m\n\u001b[0;32m    392\u001b[0m     sort\u001b[38;5;241m=\u001b[39msort,\n\u001b[0;32m    393\u001b[0m )\n\u001b[1;32m--> 395\u001b[0m \u001b[38;5;28;01mreturn\u001b[39;00m \u001b[43mop\u001b[49m\u001b[38;5;241;43m.\u001b[39;49m\u001b[43mget_result\u001b[49m\u001b[43m(\u001b[49m\u001b[43m)\u001b[49m\n",
      "File \u001b[1;32m~\\AppData\\Roaming\\Python\\Python312\\site-packages\\pandas\\core\\reshape\\concat.py:684\u001b[0m, in \u001b[0;36m_Concatenator.get_result\u001b[1;34m(self)\u001b[0m\n\u001b[0;32m    680\u001b[0m             indexers[ax] \u001b[38;5;241m=\u001b[39m obj_labels\u001b[38;5;241m.\u001b[39mget_indexer(new_labels)\n\u001b[0;32m    682\u001b[0m     mgrs_indexers\u001b[38;5;241m.\u001b[39mappend((obj\u001b[38;5;241m.\u001b[39m_mgr, indexers))\n\u001b[1;32m--> 684\u001b[0m new_data \u001b[38;5;241m=\u001b[39m \u001b[43mconcatenate_managers\u001b[49m\u001b[43m(\u001b[49m\n\u001b[0;32m    685\u001b[0m \u001b[43m    \u001b[49m\u001b[43mmgrs_indexers\u001b[49m\u001b[43m,\u001b[49m\u001b[43m \u001b[49m\u001b[38;5;28;43mself\u001b[39;49m\u001b[38;5;241;43m.\u001b[39;49m\u001b[43mnew_axes\u001b[49m\u001b[43m,\u001b[49m\u001b[43m \u001b[49m\u001b[43mconcat_axis\u001b[49m\u001b[38;5;241;43m=\u001b[39;49m\u001b[38;5;28;43mself\u001b[39;49m\u001b[38;5;241;43m.\u001b[39;49m\u001b[43mbm_axis\u001b[49m\u001b[43m,\u001b[49m\u001b[43m \u001b[49m\u001b[43mcopy\u001b[49m\u001b[38;5;241;43m=\u001b[39;49m\u001b[38;5;28;43mself\u001b[39;49m\u001b[38;5;241;43m.\u001b[39;49m\u001b[43mcopy\u001b[49m\n\u001b[0;32m    686\u001b[0m \u001b[43m\u001b[49m\u001b[43m)\u001b[49m\n\u001b[0;32m    687\u001b[0m \u001b[38;5;28;01mif\u001b[39;00m \u001b[38;5;129;01mnot\u001b[39;00m \u001b[38;5;28mself\u001b[39m\u001b[38;5;241m.\u001b[39mcopy \u001b[38;5;129;01mand\u001b[39;00m \u001b[38;5;129;01mnot\u001b[39;00m using_copy_on_write():\n\u001b[0;32m    688\u001b[0m     new_data\u001b[38;5;241m.\u001b[39m_consolidate_inplace()\n",
      "File \u001b[1;32m~\\AppData\\Roaming\\Python\\Python312\\site-packages\\pandas\\core\\internals\\concat.py:131\u001b[0m, in \u001b[0;36mconcatenate_managers\u001b[1;34m(mgrs_indexers, axes, concat_axis, copy)\u001b[0m\n\u001b[0;32m    124\u001b[0m \u001b[38;5;66;03m# Assertions disabled for performance\u001b[39;00m\n\u001b[0;32m    125\u001b[0m \u001b[38;5;66;03m# for tup in mgrs_indexers:\u001b[39;00m\n\u001b[0;32m    126\u001b[0m \u001b[38;5;66;03m#    # caller is responsible for ensuring this\u001b[39;00m\n\u001b[0;32m    127\u001b[0m \u001b[38;5;66;03m#    indexers = tup[1]\u001b[39;00m\n\u001b[0;32m    128\u001b[0m \u001b[38;5;66;03m#    assert concat_axis not in indexers\u001b[39;00m\n\u001b[0;32m    130\u001b[0m \u001b[38;5;28;01mif\u001b[39;00m concat_axis \u001b[38;5;241m==\u001b[39m \u001b[38;5;241m0\u001b[39m:\n\u001b[1;32m--> 131\u001b[0m     mgrs \u001b[38;5;241m=\u001b[39m \u001b[43m_maybe_reindex_columns_na_proxy\u001b[49m\u001b[43m(\u001b[49m\u001b[43maxes\u001b[49m\u001b[43m,\u001b[49m\u001b[43m \u001b[49m\u001b[43mmgrs_indexers\u001b[49m\u001b[43m,\u001b[49m\u001b[43m \u001b[49m\u001b[43mneeds_copy\u001b[49m\u001b[43m)\u001b[49m\n\u001b[0;32m    132\u001b[0m     \u001b[38;5;28;01mreturn\u001b[39;00m mgrs[\u001b[38;5;241m0\u001b[39m]\u001b[38;5;241m.\u001b[39mconcat_horizontal(mgrs, axes)\n\u001b[0;32m    134\u001b[0m \u001b[38;5;28;01mif\u001b[39;00m \u001b[38;5;28mlen\u001b[39m(mgrs_indexers) \u001b[38;5;241m>\u001b[39m \u001b[38;5;241m0\u001b[39m \u001b[38;5;129;01mand\u001b[39;00m mgrs_indexers[\u001b[38;5;241m0\u001b[39m][\u001b[38;5;241m0\u001b[39m]\u001b[38;5;241m.\u001b[39mnblocks \u001b[38;5;241m>\u001b[39m \u001b[38;5;241m0\u001b[39m:\n",
      "File \u001b[1;32m~\\AppData\\Roaming\\Python\\Python312\\site-packages\\pandas\\core\\internals\\concat.py:230\u001b[0m, in \u001b[0;36m_maybe_reindex_columns_na_proxy\u001b[1;34m(axes, mgrs_indexers, needs_copy)\u001b[0m\n\u001b[0;32m    220\u001b[0m         mgr \u001b[38;5;241m=\u001b[39m mgr\u001b[38;5;241m.\u001b[39mreindex_indexer(\n\u001b[0;32m    221\u001b[0m             axes[i],\n\u001b[0;32m    222\u001b[0m             indexers[i],\n\u001b[1;32m   (...)\u001b[0m\n\u001b[0;32m    227\u001b[0m             use_na_proxy\u001b[38;5;241m=\u001b[39m\u001b[38;5;28;01mTrue\u001b[39;00m,  \u001b[38;5;66;03m# only relevant for i==0\u001b[39;00m\n\u001b[0;32m    228\u001b[0m         )\n\u001b[0;32m    229\u001b[0m     \u001b[38;5;28;01mif\u001b[39;00m needs_copy \u001b[38;5;129;01mand\u001b[39;00m \u001b[38;5;129;01mnot\u001b[39;00m indexers:\n\u001b[1;32m--> 230\u001b[0m         mgr \u001b[38;5;241m=\u001b[39m \u001b[43mmgr\u001b[49m\u001b[38;5;241;43m.\u001b[39;49m\u001b[43mcopy\u001b[49m\u001b[43m(\u001b[49m\u001b[43m)\u001b[49m\n\u001b[0;32m    232\u001b[0m     new_mgrs\u001b[38;5;241m.\u001b[39mappend(mgr)\n\u001b[0;32m    233\u001b[0m \u001b[38;5;28;01mreturn\u001b[39;00m new_mgrs\n",
      "File \u001b[1;32m~\\AppData\\Roaming\\Python\\Python312\\site-packages\\pandas\\core\\internals\\managers.py:604\u001b[0m, in \u001b[0;36mBaseBlockManager.copy\u001b[1;34m(self, deep)\u001b[0m\n\u001b[0;32m    601\u001b[0m         res\u001b[38;5;241m.\u001b[39m_blklocs \u001b[38;5;241m=\u001b[39m \u001b[38;5;28mself\u001b[39m\u001b[38;5;241m.\u001b[39m_blklocs\u001b[38;5;241m.\u001b[39mcopy()\n\u001b[0;32m    603\u001b[0m \u001b[38;5;28;01mif\u001b[39;00m deep:\n\u001b[1;32m--> 604\u001b[0m     \u001b[43mres\u001b[49m\u001b[38;5;241;43m.\u001b[39;49m\u001b[43m_consolidate_inplace\u001b[49m\u001b[43m(\u001b[49m\u001b[43m)\u001b[49m\n\u001b[0;32m    605\u001b[0m \u001b[38;5;28;01mreturn\u001b[39;00m res\n",
      "File \u001b[1;32m~\\AppData\\Roaming\\Python\\Python312\\site-packages\\pandas\\core\\internals\\managers.py:1788\u001b[0m, in \u001b[0;36mBlockManager._consolidate_inplace\u001b[1;34m(self)\u001b[0m\n\u001b[0;32m   1782\u001b[0m \u001b[38;5;28;01mdef\u001b[39;00m \u001b[38;5;21m_consolidate_inplace\u001b[39m(\u001b[38;5;28mself\u001b[39m) \u001b[38;5;241m-\u001b[39m\u001b[38;5;241m>\u001b[39m \u001b[38;5;28;01mNone\u001b[39;00m:\n\u001b[0;32m   1783\u001b[0m     \u001b[38;5;66;03m# In general, _consolidate_inplace should only be called via\u001b[39;00m\n\u001b[0;32m   1784\u001b[0m     \u001b[38;5;66;03m#  DataFrame._consolidate_inplace, otherwise we will fail to invalidate\u001b[39;00m\n\u001b[0;32m   1785\u001b[0m     \u001b[38;5;66;03m#  the DataFrame's _item_cache. The exception is for newly-created\u001b[39;00m\n\u001b[0;32m   1786\u001b[0m     \u001b[38;5;66;03m#  BlockManager objects not yet attached to a DataFrame.\u001b[39;00m\n\u001b[0;32m   1787\u001b[0m     \u001b[38;5;28;01mif\u001b[39;00m \u001b[38;5;129;01mnot\u001b[39;00m \u001b[38;5;28mself\u001b[39m\u001b[38;5;241m.\u001b[39mis_consolidated():\n\u001b[1;32m-> 1788\u001b[0m         \u001b[38;5;28mself\u001b[39m\u001b[38;5;241m.\u001b[39mblocks \u001b[38;5;241m=\u001b[39m \u001b[43m_consolidate\u001b[49m\u001b[43m(\u001b[49m\u001b[38;5;28;43mself\u001b[39;49m\u001b[38;5;241;43m.\u001b[39;49m\u001b[43mblocks\u001b[49m\u001b[43m)\u001b[49m\n\u001b[0;32m   1789\u001b[0m         \u001b[38;5;28mself\u001b[39m\u001b[38;5;241m.\u001b[39m_is_consolidated \u001b[38;5;241m=\u001b[39m \u001b[38;5;28;01mTrue\u001b[39;00m\n\u001b[0;32m   1790\u001b[0m         \u001b[38;5;28mself\u001b[39m\u001b[38;5;241m.\u001b[39m_known_consolidated \u001b[38;5;241m=\u001b[39m \u001b[38;5;28;01mTrue\u001b[39;00m\n",
      "File \u001b[1;32m~\\AppData\\Roaming\\Python\\Python312\\site-packages\\pandas\\core\\internals\\managers.py:2269\u001b[0m, in \u001b[0;36m_consolidate\u001b[1;34m(blocks)\u001b[0m\n\u001b[0;32m   2267\u001b[0m new_blocks: \u001b[38;5;28mlist\u001b[39m[Block] \u001b[38;5;241m=\u001b[39m []\n\u001b[0;32m   2268\u001b[0m \u001b[38;5;28;01mfor\u001b[39;00m (_can_consolidate, dtype), group_blocks \u001b[38;5;129;01min\u001b[39;00m grouper:\n\u001b[1;32m-> 2269\u001b[0m     merged_blocks, _ \u001b[38;5;241m=\u001b[39m \u001b[43m_merge_blocks\u001b[49m\u001b[43m(\u001b[49m\n\u001b[0;32m   2270\u001b[0m \u001b[43m        \u001b[49m\u001b[38;5;28;43mlist\u001b[39;49m\u001b[43m(\u001b[49m\u001b[43mgroup_blocks\u001b[49m\u001b[43m)\u001b[49m\u001b[43m,\u001b[49m\u001b[43m \u001b[49m\u001b[43mdtype\u001b[49m\u001b[38;5;241;43m=\u001b[39;49m\u001b[43mdtype\u001b[49m\u001b[43m,\u001b[49m\u001b[43m \u001b[49m\u001b[43mcan_consolidate\u001b[49m\u001b[38;5;241;43m=\u001b[39;49m\u001b[43m_can_consolidate\u001b[49m\n\u001b[0;32m   2271\u001b[0m \u001b[43m    \u001b[49m\u001b[43m)\u001b[49m\n\u001b[0;32m   2272\u001b[0m     new_blocks \u001b[38;5;241m=\u001b[39m extend_blocks(merged_blocks, new_blocks)\n\u001b[0;32m   2273\u001b[0m \u001b[38;5;28;01mreturn\u001b[39;00m \u001b[38;5;28mtuple\u001b[39m(new_blocks)\n",
      "File \u001b[1;32m~\\AppData\\Roaming\\Python\\Python312\\site-packages\\pandas\\core\\internals\\managers.py:2301\u001b[0m, in \u001b[0;36m_merge_blocks\u001b[1;34m(blocks, dtype, can_consolidate)\u001b[0m\n\u001b[0;32m   2298\u001b[0m     new_values \u001b[38;5;241m=\u001b[39m bvals2[\u001b[38;5;241m0\u001b[39m]\u001b[38;5;241m.\u001b[39m_concat_same_type(bvals2, axis\u001b[38;5;241m=\u001b[39m\u001b[38;5;241m0\u001b[39m)\n\u001b[0;32m   2300\u001b[0m argsort \u001b[38;5;241m=\u001b[39m np\u001b[38;5;241m.\u001b[39margsort(new_mgr_locs)\n\u001b[1;32m-> 2301\u001b[0m new_values \u001b[38;5;241m=\u001b[39m \u001b[43mnew_values\u001b[49m\u001b[43m[\u001b[49m\u001b[43margsort\u001b[49m\u001b[43m]\u001b[49m\n\u001b[0;32m   2302\u001b[0m new_mgr_locs \u001b[38;5;241m=\u001b[39m new_mgr_locs[argsort]\n\u001b[0;32m   2304\u001b[0m bp \u001b[38;5;241m=\u001b[39m BlockPlacement(new_mgr_locs)\n",
      "\u001b[1;31mMemoryError\u001b[0m: Unable to allocate 1.34 GiB for an array with shape (105, 1716428) and data type float64"
     ]
    }
   ],
   "source": [
    "#Realizando as junções das bases (TESTE)\n",
    "\n",
    "df_test = df_test.join(df_auxiliar_bureau, on='SK_ID_CURR', lsuffix = '_duplicate', how='right')\n",
    "#df_test_1 = df_test_1.join(df_auxiliar_bureau_balance, on='SK_ID_BUREAU', lsuffix = '_duplicate2', how='left')\n",
    "#df_test_1 = df_test_1.join(df_auxiliar_previous_application, on='SK_ID_CURR', lsuffix = '_duplicate3', how='left')\n",
    "#df_test_1 = df_test_1.join(df_auxiliar_POS_CASH_balance, on='SK_ID_PREV', lsuffix = '_duplicate4', how='left')\n",
    "#df_test_1 = df_test_1.join(df_auxiliar_installments_payments, on='SK_ID_PREV', lsuffix = '_duplicate5', how='left')\n",
    "#df_test_1 = df_test_1.join(df_auxiliar_credit_card_balances, on='SK_ID_PREV', lsuffix = '_duplicate6', how='left')\n",
    "\n",
    "#Dropando colunas duplicadas\n",
    "#sufixos = ['_duplicate', '_duplicate2', '_duplicate3', '_duplicate4', '_duplicate5', '_duplicate6']\n",
    "#df_test_1 = df_test_1.loc[:, ~df_test_1.columns.str.endswith(tuple(sufixos))]\n",
    "\n",
    "# Removendo caracteres especiais das colunas\n",
    "#df_test_1.columns = [re.sub(r'[^\\w]', '', col) for col in df_test_1.columns]\n",
    "\n",
    "# Criando csv completo de teste\n",
    "#df_test_1.to_csv(f\"df_test_full.csv\", index=False)\n",
    "#print(df_test_1.shape)    "
   ]
  },
  {
   "cell_type": "code",
   "execution_count": null,
   "id": "64f9ca49",
   "metadata": {},
   "outputs": [],
   "source": [
    "df_test_1.info(max_cols=1000)"
   ]
  },
  {
   "cell_type": "code",
   "execution_count": null,
   "id": "3e6bcac3",
   "metadata": {},
   "outputs": [],
   "source": [
    "# Aliviando memoria\n",
    "del df_auxiliar_bureau, df_auxiliar_bureau_balance, df_auxiliar_previous_application \n",
    "del df_auxiliar_POS_CASH_balance, df_auxiliar_installments_payments, df_auxiliar_credit_card_balances"
   ]
  },
  {
   "cell_type": "code",
   "execution_count": null,
   "id": "d37e36a2",
   "metadata": {},
   "outputs": [],
   "source": [
    "# Verificando as colunas de treino\n",
    "with open(\"attributes_train_100.txt\", 'w') as file:\n",
    "    for col in df_train.columns:\n",
    "        file.write(col + \"\\n\")"
   ]
  },
  {
   "cell_type": "code",
   "execution_count": null,
   "id": "c4e2d8a1",
   "metadata": {},
   "outputs": [],
   "source": [
    "# Verificando as colunas de teste\n",
    "with open(\"attributes_test.txt\", 'w') as file:\n",
    "    for col in df_test.columns:\n",
    "        file.write(col + \"\\n\")\n"
   ]
  }
 ],
 "metadata": {
  "kernelspec": {
   "display_name": "Python 3",
   "language": "python",
   "name": "python3"
  },
  "language_info": {
   "codemirror_mode": {
    "name": "ipython",
    "version": 3
   },
   "file_extension": ".py",
   "mimetype": "text/x-python",
   "name": "python",
   "nbconvert_exporter": "python",
   "pygments_lexer": "ipython3",
   "version": "3.12.5"
  }
 },
 "nbformat": 4,
 "nbformat_minor": 5
}
