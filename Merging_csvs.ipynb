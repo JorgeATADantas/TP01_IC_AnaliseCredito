{
 "cells": [
  {
   "cell_type": "code",
   "execution_count": null,
   "id": "9c379cf3",
   "metadata": {},
   "outputs": [
    {
     "name": "stderr",
     "output_type": "stream",
     "text": [
      "Intel(R) Extension for Scikit-learn* enabled (https://github.com/uxlfoundation/scikit-learn-intelex)\n"
     ]
    },
    {
     "name": "stdout",
     "output_type": "stream",
     "text": [
      "(307511, 195)\n"
     ]
    }
   ],
   "source": [
    "#Importando Bibliotecas Pandas e Numpy\n",
    "import pandas as pd\n",
    "import numpy as np\n",
    "import os, sys\n",
    "import time\n",
    "\n",
    "#Importando BiBliotecas DASK  (alternativa ao Pandas)\n",
    "import dask.dataframe as dd\n",
    "\n",
    "#Otimizador Giovanni\n",
    "from sklearnex import patch_sklearn \n",
    "patch_sklearn()\n",
    "\n",
    "\n",
    "CSV_PATH = \"/home/gi/Desktop/Semestre8/Inteligencia_Computacional/TP1_csvs\" # Path Giovanni\n",
    "# CSV_PATH = \"E:/Documentos/CEFET/OneDrive/Documentos/2ECOM067_INTELIGENCIA-COMPUTACIONAL-I_T01/TP1/bases/\" # Path Jorge\n",
    "\n",
    "import warnings\n",
    "warnings.simplefilter(\"ignore\")\n",
    "#Carregando Base de dados principal\n",
    "df_test  = pd.read_csv(f\"{CSV_PATH}/application_test.csv\")\n",
    "df_train = pd.read_csv(f\"{CSV_PATH}/application_train.csv\")\n",
    "\n",
    "# Fazendo o merge com os dados auxiliares\n",
    "df_auxiliar_bureau                          = pd.read_csv(f\"{CSV_PATH}/bureau.csv\")\n",
    "df_auxiliar_bureau_balance                  = pd.read_csv(f\"{CSV_PATH}/bureau_balance.csv\")\n",
    "df_auxiliar_previous_application            = pd.read_csv(f\"{CSV_PATH}/previous_application.csv\")\n",
    "df_auxiliar_POS_CASH_balance                = pd.read_csv(f\"{CSV_PATH}/POS_CASH_balance.csv\")\n",
    "df_auxiliar_installments_payments           = pd.read_csv(f\"{CSV_PATH}/installments_payments.csv\")\n",
    "df_auxiliar_credit_card_balances            = pd.read_csv(f\"{CSV_PATH}/credit_card_balance.csv\")\n",
    "\n",
    "\n",
    "#df_train = df_train.sample(frac=0.10, random_state=42)  # Seleciona 10% do DataFrame de treino\n",
    "df_train = df_train.join(df_auxiliar_bureau, on='SK_ID_CURR', lsuffix = '_duplicate', how='left')\n",
    "df_train = df_train.join(df_auxiliar_bureau_balance, on='SK_ID_BUREAU', lsuffix = '_duplicate2', how='left')\n",
    "df_train = df_train.join(df_auxiliar_previous_application, on='SK_ID_BUREAU', lsuffix = '_duplicate3', how='left')\n",
    "df_train = df_train.join(df_auxiliar_POS_CASH_balance, on='SK_ID_PREV', lsuffix = '_duplicate4', how='left')\n",
    "df_train = df_train.join(df_auxiliar_installments_payments, on='SK_ID_PREV', lsuffix = '_duplicate5', how='left')\n",
    "df_train = df_train.join(df_auxiliar_credit_card_balances, on='SK_ID_PREV', lsuffix = '_duplicate6', how='left')\n",
    "\n",
    "#Dropando colunas duplicadas\n",
    "sufixos = ['_duplicate', '_duplicate2', '_duplicate3', '_duplicate4', '_duplicate5', '_duplicate6']\n",
    "df_train = df_train.loc[:, ~df_train.columns.str.endswith(tuple(sufixos))]\n",
    "\n",
    "\n",
    "# Removendo caracteres especiais das colunas\n",
    "import re\n",
    "df_train.columns = [re.sub(r'[^\\w]', '', col) for col in df_train.columns]\n",
    "\n",
    "# Salvando o DataFrame resultante em um arquivo CSV\n",
    "df_train.to_csv(f\"df_train_full.csv\", index=False)\n",
    "print(df_train.shape)"
   ]
  },
  {
   "cell_type": "code",
   "execution_count": 2,
   "id": "0c5407e6",
   "metadata": {},
   "outputs": [
    {
     "name": "stdout",
     "output_type": "stream",
     "text": [
      "(48744, 194)\n"
     ]
    }
   ],
   "source": [
    "# Criando csv completo de teste\n",
    "df_test = df_test.join(df_auxiliar_bureau, on='SK_ID_CURR', lsuffix = '_duplicate', how='left') \n",
    "df_test = df_test.join(df_auxiliar_bureau_balance, on='SK_ID_BUREAU', lsuffix = '_duplicate2', how='left')\n",
    "df_test = df_test.join(df_auxiliar_previous_application, on='SK_ID_BUREAU', lsuffix = '_duplicate3', how='left')\n",
    "df_test = df_test.join(df_auxiliar_POS_CASH_balance, on='SK_ID_PREV', lsuffix = '_duplicate4', how='left')\n",
    "df_test = df_test.join(df_auxiliar_installments_payments, on='SK_ID_PREV', lsuffix = '_duplicate5', how='left')\n",
    "df_test = df_test.join(df_auxiliar_credit_card_balances, on='SK_ID_PREV', lsuffix = '_duplicate6', how='left')\n",
    "\n",
    "#Dropando colunas duplicadas\n",
    "sufixos = ['_duplicate', '_duplicate2', '_duplicate3', '_duplicate4', '_duplicate5', '_duplicate6']\n",
    "df_test = df_test.loc[:, ~df_test.columns.str.endswith(tuple(sufixos))]\n",
    "\n",
    "# Removendo caracteres especiais das colunas\n",
    "df_test.columns = [re.sub(r'[^\\w]', '', col) for col in df_test.columns]\n",
    "\n",
    "# Criando csv completo de teste\n",
    "df_test.to_csv(f\"df_test.csv\", index=False)\n",
    "print(df_test.shape)    "
   ]
  },
  {
   "cell_type": "code",
   "execution_count": 5,
   "id": "3e6bcac3",
   "metadata": {},
   "outputs": [],
   "source": [
    "# Aliviando memoria\n",
    "del df_auxiliar_bureau, df_auxiliar_bureau_balance, df_auxiliar_previous_application \n",
    "del df_auxiliar_POS_CASH_balance, df_auxiliar_installments_payments, df_auxiliar_credit_card_balances"
   ]
  },
  {
   "cell_type": "code",
   "execution_count": 14,
   "id": "d37e36a2",
   "metadata": {},
   "outputs": [],
   "source": [
    "# Verificando as colunas de treino\n",
    "with open(\"attributes_train_100.txt\", 'w') as file:\n",
    "    for col in df_train.columns:\n",
    "        file.write(col + \"\\n\")"
   ]
  },
  {
   "cell_type": "code",
   "execution_count": null,
   "id": "c4e2d8a1",
   "metadata": {},
   "outputs": [],
   "source": [
    "# Verificando as colunas de teste\n",
    "with open(\"attributes_test.txt\", 'w') as file:\n",
    "    for col in df_test.columns:\n",
    "        file.write(col + \"\\n\")\n"
   ]
  }
 ],
 "metadata": {
  "kernelspec": {
   "display_name": "Python 3",
   "language": "python",
   "name": "python3"
  },
  "language_info": {
   "codemirror_mode": {
    "name": "ipython",
    "version": 3
   },
   "file_extension": ".py",
   "mimetype": "text/x-python",
   "name": "python",
   "nbconvert_exporter": "python",
   "pygments_lexer": "ipython3",
   "version": "3.10.12"
  }
 },
 "nbformat": 4,
 "nbformat_minor": 5
}
