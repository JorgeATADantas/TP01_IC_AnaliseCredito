{
 "cells": [
  {
   "cell_type": "code",
   "execution_count": 1,
   "id": "f776461a",
   "metadata": {},
   "outputs": [
    {
     "name": "stderr",
     "output_type": "stream",
     "text": [
      "Intel(R) Extension for Scikit-learn* enabled (https://github.com/uxlfoundation/scikit-learn-intelex)\n"
     ]
    }
   ],
   "source": [
    "#Importando Bibliotecas Pandas e Numpy\n",
    "import pandas as pd\n",
    "import numpy as np\n",
    "import os, sys\n",
    "\n",
    "#Importando BiBliotecas DASK  (alternativa ao Pandas)\n",
    "import dask.dataframe as dd\n",
    "\n",
    "#Otimizador Giovanni\n",
    "from sklearnex import patch_sklearn \n",
    "from sklearn.preprocessing import LabelEncoder\n",
    "\n",
    "patch_sklearn()\n",
    "le = LabelEncoder()\n",
    "\n",
    "CSV_PATH = \"/home/gi/Desktop/Semestre8/Inteligencia_Computacional/TP1_csvs\" # Path Giovanni\n",
    "# CSV_PATH = \"E:/Documentos/CEFET/OneDrive/Documentos/2ECOM067_INTELIGENCIA-COMPUTACIONAL-I_T01/TP1/bases/\" # Path Jorge"
   ]
  },
  {
   "cell_type": "code",
   "execution_count": 2,
   "id": "16149a49",
   "metadata": {},
   "outputs": [],
   "source": [
    "import warnings\n",
    "import re\n",
    "warnings.simplefilter(\"ignore\")"
   ]
  },
  {
   "cell_type": "code",
   "execution_count": 3,
   "id": "b55979e8",
   "metadata": {},
   "outputs": [],
   "source": [
    "# Renomeando colunas evitando duplicatas\n",
    "def renomear_seguro(cols):\n",
    "    novas = []\n",
    "    vistos = set()\n",
    "    for col in cols:\n",
    "        base = re.sub(r'[^\\w]', '', col)\n",
    "        nome = base\n",
    "        i = 1\n",
    "        while nome in vistos:\n",
    "            nome = f\"{base}_{i}\"\n",
    "            i += 1\n",
    "        vistos.add(nome)\n",
    "        novas.append(nome)\n",
    "    return novas"
   ]
  },
  {
   "cell_type": "code",
   "execution_count": 4,
   "id": "2017cac5",
   "metadata": {},
   "outputs": [],
   "source": [
    "#Carregando Base de dados principal\n",
    "df_test  = pd.read_csv(f\"{CSV_PATH}/application_test.csv\")"
   ]
  },
  {
   "cell_type": "code",
   "execution_count": 5,
   "id": "888d844a",
   "metadata": {},
   "outputs": [],
   "source": [
    "# Como o volume de informações é muito grande, iremos ao invés de montar uma base única entre a base principal e as \n",
    "# demais tabelas auxiliares, iremos criar 4 bases (conforme descrito abaixo), realizar as devidas simulações e utilizar \n",
    "# as estratégias de emsemble VotingClassifier e StackingClassifier.\n",
    "# Bases que serão construídas:\n",
    "#   -   df_01 = application_train + bureau + bureau_balance\n",
    "#   -   df_02 = application_train + previous_application + POS_CASH_balance\n",
    "#   -   df_03 = application_train + previous_application + installments_payments\n",
    "#   -   df_04 = application_train + previous_application + credit_card_balance"
   ]
  },
  {
   "cell_type": "markdown",
   "id": "c559b23a",
   "metadata": {},
   "source": [
    "## DataFrame 01 = application_train + bureau + bureau_balance"
   ]
  },
  {
   "cell_type": "code",
   "execution_count": 6,
   "id": "7d7bfea9",
   "metadata": {},
   "outputs": [],
   "source": [
    "#Carregamento de Bases de Dados Auxiliares\n",
    "df_auxiliar_bureau                          = pd.read_csv(f\"{CSV_PATH}/bureau.csv\")\n",
    "df_auxiliar_bureau_balance                  = pd.read_csv(f\"{CSV_PATH}/bureau_balance.csv\")"
   ]
  },
  {
   "cell_type": "code",
   "execution_count": 7,
   "id": "3a6ac282",
   "metadata": {},
   "outputs": [],
   "source": [
    "#Copia do df_test\n",
    "df_01 = df_test.copy()"
   ]
  },
  {
   "cell_type": "code",
   "execution_count": 8,
   "id": "6c9b2f3a",
   "metadata": {},
   "outputs": [],
   "source": [
    "#Realização do left join de df_test com df_auxiliar_bureau\n",
    "# DF da esquerda = df_test\n",
    "# DF da direita  = df_auxiliar_bureau\n",
    "df_01 = df_01.join(df_auxiliar_bureau, on='SK_ID_CURR', lsuffix = ' ', how='left')\n",
    "df_01 = df_01.drop(columns={\"SK_ID_CURR\"}) #Excluir coluna duplicada\n",
    "\n",
    "#Realização do left join de df_01 com df_auxiliar_bureau_balance\n",
    "# DF da esquerda = df_01\n",
    "# DF da direita  = df_auxiliar_bureau_balance\n",
    "df_01 = df_01.join(df_auxiliar_bureau_balance, on='SK_ID_BUREAU', lsuffix = ' ',  how='left')\n",
    "df_01 = df_01.drop(columns={\"SK_ID_BUREAU\"}) #Excluir coluna duplicada\n",
    "\n",
    "# Limpa caracteres especiais das colunas\n",
    "df_01.columns = renomear_seguro(df_01.columns)\n",
    "\n",
    "# Label encoder nas colunas categóricas\n",
    "\n",
    "colunas_categoricas = df_01.select_dtypes(include=['object', 'category']).columns.tolist()\n",
    "for coluna in colunas_categoricas:\n",
    "    df_01[coluna] = le.fit_transform(df_01[coluna].astype(str))\n",
    "df_01.to_csv(f\"{CSV_PATH}/df_01_test.csv\", index=False) #Salvar df_01 em CSV"
   ]
  },
  {
   "cell_type": "markdown",
   "id": "43633a90",
   "metadata": {},
   "source": [
    "## DataFrame 02 = application_train + previous_application + POS_CASH_balance"
   ]
  },
  {
   "cell_type": "code",
   "execution_count": 9,
   "id": "87e1032e",
   "metadata": {},
   "outputs": [],
   "source": [
    "#Carregamento de Bases de Dados Auxiliares\n",
    "df_auxiliar_previous_application            = pd.read_csv(f\"{CSV_PATH}/previous_application.csv\")\n",
    "df_auxiliar_POS_CASH_balance                = pd.read_csv(f\"{CSV_PATH}/POS_CASH_balance.csv\")"
   ]
  },
  {
   "cell_type": "code",
   "execution_count": 10,
   "id": "67325e12",
   "metadata": {},
   "outputs": [],
   "source": [
    "#Copia do df_test\n",
    "df_02 = df_test.copy()"
   ]
  },
  {
   "cell_type": "code",
   "execution_count": 11,
   "id": "4202176e",
   "metadata": {},
   "outputs": [],
   "source": [
    "#Realização do left join de df_test com df_auxiliar_previous_application\n",
    "# DF da esquerda = df_test\n",
    "# DF da direita  = df_auxiliar_previous_application\n",
    "df_02 = df_02.join(df_auxiliar_previous_application, on='SK_ID_CURR', lsuffix = ' ', how='left')\n",
    "df_02 = df_02.drop(columns={\"SK_ID_CURR\"}) #Excluir coluna duplicada\n",
    "\n",
    "#Realização do left join de df_02 com df_auxiliar_POS_CASH_balance\n",
    "# DF da esquerda = df_02\n",
    "# DF da direita  = df_auxiliar_POS_CASH_balance\n",
    "df_02 = df_02.join(df_auxiliar_POS_CASH_balance, on='SK_ID_PREV', lsuffix = ' ',  how='left')\n",
    "df_02 = df_02.drop(columns={\"SK_ID_PREV\"}) #Excluir coluna duplicada\n",
    "\n",
    "# Limpa caracteres especiais das colunas\n",
    "df_02.columns = renomear_seguro(df_02.columns)\n",
    "colunas_categoricas = df_02.select_dtypes(include=['object', 'category']).columns.tolist()\n",
    "for coluna in colunas_categoricas:\n",
    "    try:\n",
    "        df_02[coluna] = le.fit_transform(df_02[coluna].astype(str))\n",
    "    except ValueError:\n",
    "        print(f\"Erro ao converter coluna {coluna} para string. Verifique os dados.\")\n",
    "        raise ValueError\n",
    "df_02.to_csv(f\"{CSV_PATH}/df_02_test.csv\", index=False) #Salvar df_02 em CSV"
   ]
  },
  {
   "cell_type": "markdown",
   "id": "49484181",
   "metadata": {},
   "source": [
    "## DataFrame 03 = application_train + previous_application + installments_payments"
   ]
  },
  {
   "cell_type": "code",
   "execution_count": 12,
   "id": "64ca8625",
   "metadata": {},
   "outputs": [],
   "source": [
    "#Carregamento de Bases de Dados Auxiliares\n",
    "#df_auxiliar_previous_application            = pd.read_csv(f\"{CSV_PATH}/previous_application.csv\")\n",
    "df_auxiliar_installments_payments           = pd.read_csv(f\"{CSV_PATH}/installments_payments.csv\")"
   ]
  },
  {
   "cell_type": "code",
   "execution_count": 13,
   "id": "63946e65",
   "metadata": {},
   "outputs": [],
   "source": [
    "#Copia do df_test\n",
    "df_03 = df_test.copy()"
   ]
  },
  {
   "cell_type": "code",
   "execution_count": 14,
   "id": "115cfe29",
   "metadata": {},
   "outputs": [],
   "source": [
    "#Realização do left join de df_test com df_auxiliar_previous_application\n",
    "# DF da esquerda = df_test\n",
    "# DF da direita  = df_auxiliar_previous_application\n",
    "df_03 = df_03.join(df_auxiliar_previous_application, on='SK_ID_CURR', lsuffix = ' ', how='left')\n",
    "df_03 = df_03.drop(columns={\"SK_ID_CURR\"}) #Excluir coluna duplicada\n",
    "\n",
    "#Realização do left join de df_03 com df_auxiliar_installments_payments\n",
    "# DF da esquerda = df_03\n",
    "# DF da direita  = df_auxiliar_installments_payments\n",
    "df_03 = df_03.join(df_auxiliar_installments_payments, on='SK_ID_PREV', lsuffix = ' ',  how='left')\n",
    "df_03 = df_03.drop(columns={\"SK_ID_PREV\"}) #Excluir coluna duplicada\n",
    "\n",
    "# Limpa caracteres especiais das colunas\n",
    "df_03.columns = renomear_seguro(df_03.columns)\n",
    "colunas_categoricas = df_03.select_dtypes(include=['object', 'category']).columns.tolist()\n",
    "for coluna in colunas_categoricas:\n",
    "    df_03[coluna] = le.fit_transform(df_03[coluna].astype(str))\n",
    "df_03.to_csv(f\"{CSV_PATH}/df_03_test.csv\", index=False) #Salvar df_03 em CSV"
   ]
  },
  {
   "cell_type": "markdown",
   "id": "2ba8ddaa",
   "metadata": {},
   "source": [
    "## DataFrame 04 = application_train + previous_application + credit_card_balance"
   ]
  },
  {
   "cell_type": "code",
   "execution_count": 15,
   "id": "a004fae0",
   "metadata": {},
   "outputs": [],
   "source": [
    "#Carregamento de Bases de Dados Auxiliares\n",
    "#df_auxiliar_previous_application            = pd.read_csv(f\"{CSV_PATH}/previous_application.csv\")\n",
    "df_auxiliar_credit_card_balances            = pd.read_csv(f\"{CSV_PATH}/credit_card_balance.csv\")"
   ]
  },
  {
   "cell_type": "code",
   "execution_count": 16,
   "id": "0ad366a2",
   "metadata": {},
   "outputs": [],
   "source": [
    "#Copia do df_test\n",
    "df_04 = df_test.copy()"
   ]
  },
  {
   "cell_type": "code",
   "execution_count": 17,
   "id": "7100f313",
   "metadata": {},
   "outputs": [],
   "source": [
    "#Realização do left join de df_test com df_auxiliar_previous_application\n",
    "# DF da esquerda = df_test\n",
    "# DF da direita  = df_auxiliar_previous_application\n",
    "df_04 = df_04.join(df_auxiliar_previous_application, on='SK_ID_CURR', lsuffix = ' ', how='left')\n",
    "df_04 = df_04.drop(columns={\"SK_ID_CURR\"}) #Excluir coluna duplicada\n",
    "\n",
    "#Realização do left join de df_03 com df_auxiliar_credit_card_balances\n",
    "# DF da esquerda = df_04\n",
    "# DF da direita  = df_auxiliar_credit_card_balances\n",
    "df_04 = df_04.join(df_auxiliar_credit_card_balances, on='SK_ID_PREV', lsuffix = ' ',  how='left')\n",
    "df_04 = df_04.drop(columns={\"SK_ID_PREV\"}) #Excluir coluna duplicada\n",
    "\n",
    "# Limpa caracteres especiais das colunas\n",
    "df_04.columns = renomear_seguro(df_04.columns)\n",
    "\n",
    "colunas_categoricas = df_04.select_dtypes(include=['object', 'category']).columns.tolist()\n",
    "for coluna in colunas_categoricas:\n",
    "    df_04[coluna] = le.fit_transform(df_04[coluna].astype(str))\n",
    "df_04.to_csv(f\"{CSV_PATH}/df_04_test.csv\", index=False) #Salvar df_04 em CSV "
   ]
  },
  {
   "cell_type": "code",
   "execution_count": 18,
   "id": "5b5a9e08",
   "metadata": {},
   "outputs": [
    {
     "name": "stdout",
     "output_type": "stream",
     "text": [
      "df_test shape (48744, 121), df_01 shape (48744, 139), df_02 shape (48744, 164), df_03 shape (48744, 164), df_04 shape (48744, 179)\n"
     ]
    }
   ],
   "source": [
    "# Tamanhos dos Data Frames criados\n",
    "print(f\"df_test shape {df_test.shape}, df_01 shape {df_01.shape}, df_02 shape {df_02.shape}, df_03 shape {df_03.shape}, df_04 shape {df_04.shape}\")"
   ]
  }
 ],
 "metadata": {
  "kernelspec": {
   "display_name": "Python 3",
   "language": "python",
   "name": "python3"
  },
  "language_info": {
   "codemirror_mode": {
    "name": "ipython",
    "version": 3
   },
   "file_extension": ".py",
   "mimetype": "text/x-python",
   "name": "python",
   "nbconvert_exporter": "python",
   "pygments_lexer": "ipython3",
   "version": "3.10.12"
  }
 },
 "nbformat": 4,
 "nbformat_minor": 5
}
